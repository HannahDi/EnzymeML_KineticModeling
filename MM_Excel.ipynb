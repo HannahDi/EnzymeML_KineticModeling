{
 "cells": [
  {
   "cell_type": "markdown",
   "id": "superior-found",
   "metadata": {},
   "source": [
    "# Estimate Paramters of system of ODEs for given time course data"
   ]
  },
  {
   "cell_type": "markdown",
   "id": "upset-america",
   "metadata": {},
   "source": [
    "imports"
   ]
  },
  {
   "cell_type": "code",
   "execution_count": 1,
   "id": "removed-creation",
   "metadata": {},
   "outputs": [],
   "source": [
    "import pandas as pd # convert excel to dataframe\n",
    "import numpy as np # convert dataframe to nparray for solver\n",
    "from scipy.integrate import odeint # solve ode\n",
    "from lmfit import minimize, Parameters, Parameter, report_fit # fitting\n",
    "import matplotlib.pyplot as plt # plot data and results"
   ]
  },
  {
   "cell_type": "markdown",
   "id": "another-cabinet",
   "metadata": {},
   "source": [
    "### Get data from excel"
   ]
  },
  {
   "cell_type": "code",
   "execution_count": 2,
   "id": "visible-velvet",
   "metadata": {},
   "outputs": [],
   "source": [
    "data = './datasets/Michaelis menten Hannah.xlsx'\n",
    "df = pd.read_excel(data, sheet_name=1)"
   ]
  },
  {
   "cell_type": "markdown",
   "id": "distinguished-costa",
   "metadata": {},
   "source": [
    "### Convert dataframe to np-array"
   ]
  },
  {
   "cell_type": "code",
   "execution_count": 3,
   "id": "green-college",
   "metadata": {},
   "outputs": [
    {
     "name": "stdout",
     "output_type": "stream",
     "text": [
      "(6,)\n",
      "(7, 6)\n"
     ]
    }
   ],
   "source": [
    "cutting = -15\n",
    "# time:\n",
    "data_time = df[df.columns[0]].to_numpy(np.float64) #shape: (21,)\n",
    "data_time = data_time[:cutting]\n",
    "print(data_time.shape)\n",
    "# substrate data (absorption):\n",
    "data_s = np.transpose(df.iloc[:cutting,1:-2].to_numpy(np.float64)) #shape for df.iloc[:,1:-2]: (7, 21)\n",
    "print(data_s.shape)"
   ]
  },
  {
   "cell_type": "markdown",
   "id": "attempted-success",
   "metadata": {},
   "source": [
    "## Fit data to system of odes"
   ]
  },
  {
   "cell_type": "markdown",
   "id": "extra-field",
   "metadata": {},
   "source": [
    "### define the ode functions"
   ]
  },
  {
   "cell_type": "code",
   "execution_count": 4,
   "id": "stainless-meter",
   "metadata": {},
   "outputs": [],
   "source": [
    "def f(w, t, paras):\n",
    "    '''\n",
    "    System of differential equations\n",
    "    Arguments:\n",
    "        w: vector of state variables: w = s\n",
    "        t: time\n",
    "        params: parameters\n",
    "    '''\n",
    "    s = w\n",
    "    \n",
    "    try:\n",
    "        vmax = paras['vmax'].value\n",
    "        km = paras['Km'].value\n",
    "\n",
    "    except TypeError:\n",
    "        vmax, km = paras\n",
    "    \n",
    "    \n",
    "    f1 = -vmax*s/(km+s) # s'\n",
    "    return f1"
   ]
  },
  {
   "cell_type": "markdown",
   "id": "adult-watch",
   "metadata": {},
   "source": [
    "### Solve ODE"
   ]
  },
  {
   "cell_type": "code",
   "execution_count": 5,
   "id": "continuous-finger",
   "metadata": {},
   "outputs": [],
   "source": [
    "def g(t, w0, paras):\n",
    "    '''\n",
    "    Solution to the ODE w'(t)=f(t,w,p) with initial condition w(0)= w0 (= [s0])\n",
    "    '''\n",
    "    w = odeint(f, w0, t, args=(paras,))\n",
    "    return w"
   ]
  },
  {
   "cell_type": "markdown",
   "id": "frank-orleans",
   "metadata": {},
   "source": [
    "### compute residual between actual data (s) and fitted data"
   ]
  },
  {
   "cell_type": "code",
   "execution_count": 6,
   "id": "optimum-capital",
   "metadata": {},
   "outputs": [],
   "source": [
    "def res_multi(params, t, data_s):\n",
    "    ndata, nt = data_s.shape\n",
    "    resid = 0.0*data_s[:]\n",
    "    # residual per data set\n",
    "    for i in range(ndata):\n",
    "        w0 = data_s[i,0]\n",
    "        model = g(t, w0, params)\n",
    "        s_model = model[:,0]\n",
    "        resid[i,:]=data_s[i,:]-s_model\n",
    "    return resid.flatten()"
   ]
  },
  {
   "cell_type": "code",
   "execution_count": 7,
   "id": "sustainable-pierce",
   "metadata": {},
   "outputs": [],
   "source": [
    "def get_v(time, data_s):\n",
    "    v_all = 0.0*data_s[:] # initialize velocity vector\n",
    "    if len(data_s.shape)>1:\n",
    "        for i in range(data_s.shape[0]):\n",
    "            prev_value = data_s[i,0]\n",
    "            prev_time = 0.0\n",
    "            for j in range(data_s.shape[1]):\n",
    "                if time[j] == 0:\n",
    "                    delta = prev_value - data_s[i,j]\n",
    "                else:\n",
    "                    delta = abs( (prev_value - data_s[i,j])/(time[j]-prev_time))\n",
    "                v_all[i,j] = delta\n",
    "                prev_value = data_s[i,j]\n",
    "                prev_time = time[j]\n",
    "        v = np.max(v_all, axis=0)\n",
    "    else:\n",
    "        prev_value = data_s[0]\n",
    "        prev_time = 0.0\n",
    "        for j in range(data_s.shape[0]):\n",
    "            if time[j] == 0:\n",
    "                delta = prev_value - data_s[j]\n",
    "            else:\n",
    "                delta = abs( (prev_value - data_s[j])/(time[j]-prev_time))\n",
    "            v_all[j] = delta\n",
    "            prev_value = data_s[j]\n",
    "            prev_time = time[j]\n",
    "        v = v_all\n",
    "    return v"
   ]
  },
  {
   "cell_type": "code",
   "execution_count": 8,
   "id": "incomplete-anger",
   "metadata": {},
   "outputs": [],
   "source": [
    "def get_initial_vmax(time, data_s):\n",
    "    v = get_v(time,data_s)\n",
    "    return np.max(v)"
   ]
  },
  {
   "cell_type": "code",
   "execution_count": 9,
   "id": "prompt-processing",
   "metadata": {},
   "outputs": [],
   "source": [
    "def get_initial_Km(time, data_s):\n",
    "    v = get_v(time,data_s)\n",
    "    idx_max = np.where(v == np.max(v))[0][0]\n",
    "    idx_Km = (np.abs(v[idx_max:]-np.max(v)/2)).argmin()\n",
    "    if len(data_s.shape)>1:\n",
    "        km = np.mean(data_s,axis=0)[idx_max+idx_Km]\n",
    "    else:\n",
    "        km = data_s[idx_max+idx_Km]\n",
    "    return km"
   ]
  },
  {
   "cell_type": "markdown",
   "id": "different-thanksgiving",
   "metadata": {},
   "source": [
    "### Bringing everything together\n",
    "Initialize parameters"
   ]
  },
  {
   "cell_type": "code",
   "execution_count": 10,
   "id": "irish-vermont",
   "metadata": {},
   "outputs": [],
   "source": [
    "# time\n",
    "t_measured = data_time\n",
    "\n",
    "# initial conditions:\n",
    "if len(data_s.shape)>1:\n",
    "    s0 = np.max(data_s,axis=0)[0]\n",
    "else:\n",
    "    s0 = data_s[0]\n",
    "\n",
    "# Set parameters including bounds\n",
    "vmax = get_initial_vmax(t_measured, data_s)\n",
    "km = get_initial_Km(t_measured, data_s)\n",
    "\n",
    "params = Parameters()\n",
    "params.add('vmax', value=0.1, min=0.0001, max=100.)\n",
    "params.add('Km', value=km, min=0.0001, max=s0)"
   ]
  },
  {
   "cell_type": "markdown",
   "id": "checked-conditioning",
   "metadata": {},
   "source": [
    "Fit model and visualize results"
   ]
  },
  {
   "cell_type": "code",
   "execution_count": 11,
   "id": "certified-assault",
   "metadata": {},
   "outputs": [
    {
     "name": "stdout",
     "output_type": "stream",
     "text": [
      "[[Fit Statistics]]\n",
      "    # fitting method   = leastsq\n",
      "    # function evals   = 104\n",
      "    # data points      = 42\n",
      "    # variables        = 2\n",
      "    chi-square         = 0.03967069\n",
      "    reduced chi-square = 9.9177e-04\n",
      "    Akaike info crit   = -288.522112\n",
      "    Bayesian info crit = -285.046773\n",
      "[[Variables]]\n",
      "    vmax:  1.49364484 +/- 0.40797972 (27.31%) (init = 0.1)\n",
      "    Km:    0.98039216 +/- 0.16056728 (16.38%) (init = 0.1334047)\n",
      "[[Correlations]] (unreported correlations are < 0.100)\n",
      "    C(vmax, Km) =  0.996\n"
     ]
    },
    {
     "data": {
      "image/png": "[encoded data removed]",
      "text/plain": [
       "<Figure size 432x288 with 1 Axes>"
      ]
     },
     "metadata": {
      "needs_background": "light"
     },
     "output_type": "display_data"
    }
   ],
   "source": [
    "if len(data_s.shape)>1:\n",
    "    result = minimize(res_multi , params, args=(t_measured, data_s), method='leastsq')\n",
    "    report_fit(result) # access values of fitted parameters: result.params['Km'].value\n",
    "    # plot the data sets and fits\n",
    "    plt.figure()\n",
    "    for i in range(data_s.shape[0]):\n",
    "        plt.plot(t_measured, data_s[i, :], 'o')\n",
    "        w0 = data_s[i,0]\n",
    "        data_fitted = g(t_measured, w0, result.params)\n",
    "        plt.plot(t_measured, data_fitted[:, 0], '-', linewidth=2, label='fitted data')\n",
    "    plt.show()\n",
    "else: # TODO\n",
    "    result = minimize(residual_single , params, args=(t_measured, data_s), method='leastsq')\n",
    "    report_fit(result) # access values of fitted parameters: result.params['Km'].value\n",
    "    # plot the data sets and fits\n",
    "    plt.figure()\n",
    "    plt.plot(t_measured, data_s[:], 'o')\n",
    "    w0 = data_s[0]\n",
    "    data_fitted = g(t_measured, w0, result.params)\n",
    "    plt.plot(t_measured, data_fitted[:, 0], '-', linewidth=2, label='fitted data')\n",
    "    plt.show()"
   ]
  },
  {
   "cell_type": "code",
   "execution_count": 12,
   "id": "designing-corner",
   "metadata": {},
   "outputs": [],
   "source": [
    "vmax = result.params['vmax'].value\n",
    "km = result.params['Km'].value"
   ]
  },
  {
   "cell_type": "code",
   "execution_count": 13,
   "id": "disabled-sandwich",
   "metadata": {},
   "outputs": [
    {
     "name": "stdout",
     "output_type": "stream",
     "text": [
      "0.6862692491183534\n",
      "0.7075159750958543\n",
      "0.7186404401123427\n",
      "0.7395717150656341\n",
      "0.7436976381619498\n",
      "0.7468224181540103\n",
      "0.6295527822523823\n"
     ]
    },
    {
     "data": {
      "image/png": "[encoded data removed]",
      "text/plain": [
       "<Figure size 432x288 with 1 Axes>"
      ]
     },
     "metadata": {
      "needs_background": "light"
     },
     "output_type": "display_data"
    }
   ],
   "source": [
    "for i in range(7):\n",
    "    v0=-f(data_s[i,0],t_measured,[vmax,km])\n",
    "    print(v0)\n",
    "    plt.plot(data_s[i,0],v0,'o')"
   ]
  },
  {
   "cell_type": "code",
   "execution_count": 14,
   "id": "received-invite",
   "metadata": {},
   "outputs": [
    {
     "data": {
      "image/png": "[encoded data removed]",
      "text/plain": [
       "<Figure size 432x288 with 1 Axes>"
      ]
     },
     "metadata": {
      "needs_background": "light"
     },
     "output_type": "display_data"
    }
   ],
   "source": [
    "s_init = [0.5,0.7,0.85,1,1.5,2,5,10,15,20,50,70,100]\n",
    "for s in s_init:\n",
    "    v0=-f(s,t_measured,[vmax,km])\n",
    "    plt.plot(s,v0,'o')"
   ]
  },
  {
   "cell_type": "code",
   "execution_count": 15,
   "id": "provincial-franklin",
   "metadata": {},
   "outputs": [
    {
     "data": {
      "image/png": "[encoded data removed]",
      "text/plain": [
       "<Figure size 432x288 with 1 Axes>"
      ]
     },
     "metadata": {
      "needs_background": "light"
     },
     "output_type": "display_data"
    }
   ],
   "source": [
    "s_init = [0.5,0.7,0.85,1,1.5,2,5,10,15,20,50,70,100]\n",
    "for s in s_init:\n",
    "    v0=-f(s,t_measured,[vmax,2])\n",
    "    plt.plot(s,v0,'o')"
   ]
  },
  {
   "cell_type": "code",
   "execution_count": null,
   "id": "sustainable-fighter",
   "metadata": {},
   "outputs": [],
   "source": []
  }
 ],
 "metadata": {
  "kernelspec": {
   "display_name": "Python 3",
   "language": "python",
   "name": "python3"
  },
  "language_info": {
   "codemirror_mode": {
    "name": "ipython",
    "version": 3
   },
   "file_extension": ".py",
   "mimetype": "text/x-python",
   "name": "python",
   "nbconvert_exporter": "python",
   "pygments_lexer": "ipython3",
   "version": "3.9.2"
  }
 },
 "nbformat": 4,
 "nbformat_minor": 5
}
