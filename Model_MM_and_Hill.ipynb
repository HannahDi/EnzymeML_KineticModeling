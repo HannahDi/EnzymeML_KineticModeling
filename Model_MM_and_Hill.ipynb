{
 "cells": [
  {
   "cell_type": "markdown",
   "id": "frank-korea",
   "metadata": {},
   "source": [
    "# kinetic Modeling with ODE Solver"
   ]
  },
  {
   "cell_type": "markdown",
   "id": "scheduled-german",
   "metadata": {},
   "source": [
    "Description"
   ]
  },
  {
   "cell_type": "markdown",
   "id": "comic-master",
   "metadata": {},
   "source": [
    "### Imports\n",
    "Import packages and set global varibales used in this notebook"
   ]
  },
  {
   "cell_type": "code",
   "execution_count": 1,
   "id": "advanced-forward",
   "metadata": {},
   "outputs": [],
   "source": [
    "import os # operating system to work with directories and files\n",
    "import matplotlib.pyplot as plt # plot data and results\n",
    "import seaborn as sns # prettier visualization\n",
    "import pandas as pd # convert excel to dataframe\n",
    "import numpy as np # convert dataframe to nparray for solver\n",
    "from scipy.integrate import odeint # solve ode\n",
    "from lmfit import minimize, Parameters, Parameter, report_fit # fitting\n",
    "from pyenzyme.enzymeml.tools import EnzymeMLReader # EnzymeML document functionalities"
   ]
  },
  {
   "cell_type": "markdown",
   "id": "gorgeous-press",
   "metadata": {},
   "source": [
    "## Select EnzymeML document\n",
    "Select the EnzymeML document created with BioCatHub, by changing the path vriable accodingly. <br>\n",
    "The whole EnzymeML document is stored in the enzmldoc varible. <br>\n",
    "Prints a short overview."
   ]
  },
  {
   "cell_type": "code",
   "execution_count": 2,
   "id": "environmental-string",
   "metadata": {},
   "outputs": [
    {
     "name": "stdout",
     "output_type": "stream",
     "text": [
      ">>> Units\n",
      "\tID: u0 \t Name: ml\n",
      "\tID: u1 \t Name: K\n",
      "\tID: u2 \t Name: mmole / l\n",
      "\tID: u3 \t Name: ug\n",
      "\tID: u4 \t Name: sec\n",
      ">>> Reactants\n",
      "\tID: s0 \t Name: ADP\n",
      "\tID: s1 \t Name: ATP\n",
      "\tID: s2 \t Name: AMP\n",
      ">>> Proteins\n",
      "\tID: p0 \t Name: thermostable adenylate kinase\n",
      ">>> Reactions\n",
      "\tID: r0 \t Name: ATP formation\n"
     ]
    }
   ],
   "source": [
    "path = 'datasets/Hathaway/Experiment Hathaway.omex'\n",
    "\n",
    "# check for correct file path and file extension:\n",
    "if os.path.isfile(path) and os.path.basename(path).lower().endswith('.omex'):\n",
    "    enzmldoc = EnzymeMLReader().readFromFile(path)\n",
    "    print(enzmldoc)\n",
    "else:\n",
    "    print('Incorrect file path.')"
   ]
  },
  {
   "cell_type": "markdown",
   "id": "further-lounge",
   "metadata": {},
   "source": [
    "## Visualization of timecourse data\n",
    "A short visualisation to get a first impression of the data. <br>\n",
    "First select the reaction to visualize by changing the reaction_id accordingly, see overview above for selction options."
   ]
  },
  {
   "cell_type": "code",
   "execution_count": 3,
   "id": "chubby-workshop",
   "metadata": {},
   "outputs": [],
   "source": [
    "#basic/general settings\n",
    "sns.set_theme(style=\"whitegrid\", palette ='bright',color_codes=True, context = 'notebook')\n",
    "\n",
    "# set reaction id to 'r0' or 'r1'\n",
    "reaction_id = 'r0'\n",
    "reaction = enzmldoc.getReaction(reaction_id)\n",
    "reaction_name = reaction.getName()\n",
    "educts = reaction.getEducts() # list of tuples: (Reactant ID, stoichiometry, Constant, Replicate, Initial-Concentration)\n",
    "products = reaction.getProducts()"
   ]
  },
  {
   "cell_type": "markdown",
   "id": "automated-setup",
   "metadata": {},
   "source": [
    "Visualize educts, if the EnzymeML document contains time course data for educts"
   ]
  },
  {
   "cell_type": "code",
   "execution_count": 4,
   "id": "wound-trance",
   "metadata": {},
   "outputs": [
    {
     "data": {
      "image/png": "[encoded data removed]",
      "text/plain": [
       "<Figure size 504x252 with 1 Axes>"
      ]
     },
     "metadata": {},
     "output_type": "display_data"
    }
   ],
   "source": [
    "# Educts:\n",
    "for reactant_id, stoich, _, replicates, init_conc in educts:\n",
    "        \n",
    "    if len(replicates) > 0:\n",
    "            \n",
    "        df = reaction.exportReplicates(reactant_id)\n",
    "        time_val = df.index.tolist()\n",
    "        time = df.index.name.split('/')[0]\n",
    "        time_unit_name = df.index.name.split('/')[1]\n",
    "        time_unit = enzmldoc.getUnitDict()[time_unit_name].getName()\n",
    "            \n",
    "        f, ax = plt.subplots(figsize=(7,3.5))\n",
    "            \n",
    "        # Visualization\n",
    "        for col in df.columns:\n",
    "                \n",
    "            name = col.split('/')[1]+': '+enzmldoc.getReactant(col.split('/')[1]).getName()\n",
    "            unit_name = enzmldoc.getReactant(col.split('/')[1]).getSubstanceUnits()\n",
    "            unit = enzmldoc.getUnitDict()[unit_name].getName()\n",
    "                \n",
    "            sns.lineplot( x=time_val, y=df[col], label = col.split('/')[0] )\n",
    "            \n",
    "        #set graph title, legend, axes \n",
    "        ax.set_title(reaction_name, fontsize = 12)\n",
    "\n",
    "        ax.legend(fontsize = 10, \\\n",
    "                    bbox_to_anchor= (1, 0.75), \\\n",
    "                    title= name, \\\n",
    "                    title_fontsize = 10, \\\n",
    "                    shadow = True, \\\n",
    "                    facecolor = 'white');\n",
    "\n",
    "        xlabel = f\"{time} [{time_unit}]\"\n",
    "        ylabel = f\"{'concentration'} [{unit}]\"\n",
    "\n",
    "        ax.set_xlabel(xlabel , fontsize=10)\n",
    "        ax.set_ylabel(ylabel, fontsize=10)"
   ]
  },
  {
   "cell_type": "markdown",
   "id": "neural-jesus",
   "metadata": {},
   "source": [
    "Visualize products, if the EnzymeML document contains time course data for products <br>\n",
    "The example data does not contain measurments of products."
   ]
  },
  {
   "cell_type": "code",
   "execution_count": 5,
   "id": "greek-twist",
   "metadata": {},
   "outputs": [
    {
     "data": {
      "image/png": "[encoded data removed]",
      "text/plain": [
       "<Figure size 504x252 with 1 Axes>"
      ]
     },
     "metadata": {},
     "output_type": "display_data"
    }
   ],
   "source": [
    "for reactant_id, stoich, _, replicates, init_conc in products:\n",
    "        \n",
    "    if len(replicates) > 0:\n",
    "            \n",
    "        df = reaction.exportReplicates(reactant_id)\n",
    "        time_val = df.index.tolist()\n",
    "        time = df.index.name.split('/')[0]\n",
    "        time_unit_name = df.index.name.split('/')[1]\n",
    "        time_unit = enzmldoc.getUnitDict()[time_unit_name].getName()\n",
    "            \n",
    "        f, ax = plt.subplots(figsize=(7,3.5))\n",
    "            \n",
    "        # Visualization\n",
    "        for col in df.columns:\n",
    "                \n",
    "            name = enzmldoc.getReactant(col.split('/')[1]).getName()\n",
    "            unit_name = enzmldoc.getReactant(col.split('/')[1]).getSubstanceUnits()\n",
    "            unit = enzmldoc.getUnitDict()[unit_name].getName()\n",
    "                \n",
    "            sns.lineplot( x=time_val, y=df[col], label = col.split('/')[0] )\n",
    "            \n",
    "        #set graph title, legend, axes \n",
    "        ax.set_title(reaction_name, fontsize = 12)\n",
    "\n",
    "        ax.legend(fontsize = 10, \\\n",
    "                    bbox_to_anchor= (1, 0.75), \\\n",
    "                    title= name, \\\n",
    "                    title_fontsize = 10, \\\n",
    "                    shadow = True, \\\n",
    "                    facecolor = 'white');\n",
    "\n",
    "        xlabel = f\"{time} [{time_unit}]\"\n",
    "        ylabel = f\"{'concentration'} [{unit}]\"\n",
    "\n",
    "        ax.set_xlabel(xlabel , fontsize=10)\n",
    "        ax.set_ylabel(ylabel, fontsize=10)"
   ]
  },
  {
   "cell_type": "markdown",
   "id": "ready-murder",
   "metadata": {},
   "source": [
    "## Parameter Estimation and Modeling\n",
    "#### Data preparation\n",
    "Convert pandas dataframe from EnzymeML data to numpy arrays. <br>\n",
    "First select the reactant to model by changing the reactant_id accordingly, see overview above for selction options.<br>\n",
    "In this example substrate 's0' will be modeled.<br>\n",
    "##### Choose against which timecourse you want to fit."
   ]
  },
  {
   "cell_type": "code",
   "execution_count": 6,
   "id": "every-calvin",
   "metadata": {},
   "outputs": [],
   "source": [
    "reactant_id = 's0'\n",
    "is_product = False\n",
    "lag = 5\n",
    "replicates = reaction.exportReplicates(reactant_id)\n",
    "# time:\n",
    "data_time = replicates.index.values # numpy array shape (9,)\n",
    "data_time = data_time[lag:]\n",
    "# substrate data (absorption):\n",
    "data_s = np.transpose(replicates.iloc[lag:,:].to_numpy(np.float64)) # shape: (4, 9)\n",
    "#data_s = np.transpose(replicates.iloc[:,:-1].to_numpy(np.float64)) # shape: (3, 9)\n",
    "#data_s = np.transpose(replicates.iloc[:,:-2].to_numpy(np.float64)) # shape: (2, 9)\n",
    "#data_s = np.transpose(replicates.iloc[lag:,0].to_numpy(np.float64)) # shape: (1, 9)\n",
    "#print(data_s.shape)"
   ]
  },
  {
   "cell_type": "code",
   "execution_count": 7,
   "id": "juvenile-divide",
   "metadata": {},
   "outputs": [],
   "source": [
    "# if product \"cheating\"\n",
    "if is_product:\n",
    "    for i in range(data_s.shape[0]):\n",
    "        grr = np.transpose(replicates.iloc[lag:,:].to_numpy(np.float64))\n",
    "        init = np.max(grr[i])\n",
    "        temp = np.full(data_s[i].shape,init)\n",
    "        data_s[i]= temp-data_s[i]\n",
    "#print(data_s)"
   ]
  },
  {
   "cell_type": "markdown",
   "id": "every-document",
   "metadata": {},
   "source": [
    "### Fit data to a system of ODEs\n",
    "#### Define the ODE functions"
   ]
  },
  {
   "cell_type": "code",
   "execution_count": 8,
   "id": "distributed-marriage",
   "metadata": {},
   "outputs": [],
   "source": [
    "# not used\n",
    "def michaelis_menten_with_lag(w, t, params):\n",
    "    '''\n",
    "    System of differential equations\n",
    "    Arguments:\n",
    "        w: vector of state variables: w = [v,S]\n",
    "        t: time\n",
    "        params: parameters\n",
    "    '''\n",
    "    v, s = w\n",
    "    \n",
    "    a = params['a'].value\n",
    "    vmax = params['vmax'].value\n",
    "    km = params['Km'].value\n",
    "    \n",
    "    # f(v',s'):\n",
    "    f0 = a*(vmax-v) # v'\n",
    "    f1 = -v*s/(km+s) # S'\n",
    "    return [f0,f1]"
   ]
  },
  {
   "cell_type": "code",
   "execution_count": 9,
   "id": "emotional-major",
   "metadata": {},
   "outputs": [],
   "source": [
    "def michaelis_menten(w, t, params):\n",
    "    '''\n",
    "    Differential equations\n",
    "    Arguments:\n",
    "        w: vector of state variables, here only one: w = [S]\n",
    "        t: time\n",
    "        params: parameters\n",
    "    '''\n",
    "    s = w\n",
    "    \n",
    "    vmax = params['vmax'].value\n",
    "    km = params['Km'].value\n",
    "    \n",
    "    # f(s'):\n",
    "    f1 = -vmax*s/(km+s) # S'\n",
    "    return f1"
   ]
  },
  {
   "cell_type": "code",
   "execution_count": 10,
   "id": "rising-invalid",
   "metadata": {},
   "outputs": [],
   "source": [
    "def hill_equation(w, t, params):\n",
    "    '''\n",
    "    Differential equations\n",
    "    Arguments:\n",
    "        w: vector of state variables, here only one: w = [S]\n",
    "        t: time\n",
    "        params: parameters\n",
    "    '''\n",
    "    s = w\n",
    "    \n",
    "    vmax = params['vmax'].value\n",
    "    km = params['Km'].value\n",
    "    n = params['n'].value\n",
    "    \n",
    "    # f(s'):\n",
    "    f1 = -vmax*(s**n)/(km+(s**n)) # S'\n",
    "    return f1"
   ]
  },
  {
   "cell_type": "markdown",
   "id": "satellite-conspiracy",
   "metadata": {},
   "source": [
    "#### Solve ODE"
   ]
  },
  {
   "cell_type": "code",
   "execution_count": 11,
   "id": "short-april",
   "metadata": {},
   "outputs": [],
   "source": [
    "# not used\n",
    "def solve_MM_with_lag(t, w0, params):\n",
    "    '''\n",
    "    Solution to the ODE w'(t)=f(t,w,p) with initial condition w(0)= w0 (= [S0])\n",
    "    '''\n",
    "    w = odeint(michaelis_menten_with_lag, w0, t, args=(params,))\n",
    "    return w"
   ]
  },
  {
   "cell_type": "code",
   "execution_count": 12,
   "id": "german-still",
   "metadata": {},
   "outputs": [],
   "source": [
    "def solve_MM(t, w0, params):\n",
    "    '''\n",
    "    Solution to the ODE w'(t)=f(t,w,p) with initial condition w(0)= w0 (= [S0])\n",
    "    '''\n",
    "    w = odeint(michaelis_menten, w0, t, args=(params,))\n",
    "    return w"
   ]
  },
  {
   "cell_type": "code",
   "execution_count": 13,
   "id": "cutting-cartridge",
   "metadata": {},
   "outputs": [],
   "source": [
    "def solve_Hill(t, w0, params):\n",
    "    '''\n",
    "    Solution to the ODE w'(t)=f(t,w,p) with initial condition w(0)= w0 (= [S0])\n",
    "    '''\n",
    "    w = odeint(hill_equation, w0, t, args=(params,))\n",
    "    return w"
   ]
  },
  {
   "cell_type": "markdown",
   "id": "hungry-vietnamese",
   "metadata": {},
   "source": [
    "#### Compute residual between actual data (S) and fitted data\n",
    "In this model we assume that the data contains a bias on the y-axis. <br>\n",
    "Therfore we compute the distance between the modeled substrate + bias and the actual mesuared substrate"
   ]
  },
  {
   "cell_type": "code",
   "execution_count": 14,
   "id": "leading-grocery",
   "metadata": {},
   "outputs": [],
   "source": [
    "# not used\n",
    "def residual_with_lag_and_bias(params, t, data_s):\n",
    "    ndata, nt = data_s.shape # get dimensions of data (here we fit against 3 measurments => ndata = 3)\n",
    "    resid = 0.0*data_s[:] # initialize the residual vector\n",
    "    # compute residual per data set\n",
    "    for i in range(ndata):\n",
    "        w0 = params['v0'].value, params['S0'].value\n",
    "        model = solve_MM_with_lag(t, w0, params) # solve the ODE with the given parameters\n",
    "        # get modeled substrate\n",
    "        s_model = model[:,1]\n",
    "        s_model_b = s_model + params['b'].value # adding bias\n",
    "        resid[i,:]=data_s[i,:]-s_model_b # compute distance to measured data\n",
    "    return resid.flatten()"
   ]
  },
  {
   "cell_type": "code",
   "execution_count": 15,
   "id": "underlying-nepal",
   "metadata": {},
   "outputs": [],
   "source": [
    "def residual_MM(params, t, data_s):\n",
    "    ndata, nt = data_s.shape # get dimensions of data (here we fit against 4 measurments => ndata = 4)\n",
    "    resid = 0.0*data_s[:] # initialize the residual vector\n",
    "    # compute residual per data set\n",
    "    for i in range(ndata):\n",
    "        w0 = data_s[i,0]\n",
    "        model = solve_MM(t, w0, params) # solve the ODE with the given parameters\n",
    "        # get modeled substrate\n",
    "        s_model = model[:,0]\n",
    "        resid[i,:]=data_s[i,:]-s_model # compute distance to measured data\n",
    "    return resid.flatten()"
   ]
  },
  {
   "cell_type": "code",
   "execution_count": 16,
   "id": "laughing-transcription",
   "metadata": {},
   "outputs": [],
   "source": [
    "def residual_MM_single(params, t, data_s):\n",
    "    w0 = data_s[0]\n",
    "    model = solve_MM(t, w0, params)\n",
    "    # only have data for s not v\n",
    "    s_model = model[:,0]\n",
    "    return (s_model - data_s).ravel()"
   ]
  },
  {
   "cell_type": "code",
   "execution_count": 17,
   "id": "median-liechtenstein",
   "metadata": {},
   "outputs": [],
   "source": [
    "def residual_Hill(params, t, data_s):\n",
    "    ndata, nt = data_s.shape # get dimensions of data (here we fit against 4 measurments => ndata = 4)\n",
    "    resid = 0.0*data_s[:] # initialize the residual vector\n",
    "    # compute residual per data set\n",
    "    for i in range(ndata):\n",
    "        w0 = data_s[i,0]\n",
    "        model = solve_Hill(t, w0, params) # solve the ODE with the given parameters\n",
    "        # get modeled substrate\n",
    "        s_model = model[:,0]\n",
    "        resid[i,:]=data_s[i,:]-s_model # compute distance to measured data\n",
    "    return resid.flatten()"
   ]
  },
  {
   "cell_type": "code",
   "execution_count": 18,
   "id": "reduced-evanescence",
   "metadata": {},
   "outputs": [],
   "source": [
    "def residual_Hill_single(params, t, data_s):\n",
    "    w0 = data_s[0]\n",
    "    model = solve_Hill(t, w0, params)\n",
    "    # only have data for s not v\n",
    "    s_model = model[:,0]\n",
    "    return (s_model - data_s).ravel()"
   ]
  },
  {
   "cell_type": "markdown",
   "id": "weighted-pepper",
   "metadata": {},
   "source": [
    "#### Functions to compute initial value for vmax and Km\n",
    "To get a good guess for vmax, v is computed for each time step. <br>\n",
    "For Km the mean of s values at aproximatly vmax/2 is taken."
   ]
  },
  {
   "cell_type": "code",
   "execution_count": 19,
   "id": "coordinated-numbers",
   "metadata": {},
   "outputs": [],
   "source": [
    "def get_v(time, data_s):\n",
    "    v_all = 0.0*data_s[:] # initialize velocity vector\n",
    "    if len(data_s.shape)>1:\n",
    "        for i in range(data_s.shape[0]):\n",
    "            prev_value = data_s[i,0]\n",
    "            prev_time = 0.0\n",
    "            for j in range(data_s.shape[1]):\n",
    "                if time[j] == 0:\n",
    "                    delta = prev_value - data_s[i,j]\n",
    "                else:\n",
    "                    delta = abs( (prev_value - data_s[i,j])/(time[j]-prev_time))\n",
    "                v_all[i,j] = delta\n",
    "                prev_value = data_s[i,j]\n",
    "                prev_time = time[j]\n",
    "        v = np.max(v_all, axis=0)\n",
    "    else:\n",
    "        prev_value = data_s[0]\n",
    "        prev_time = 0.0\n",
    "        for j in range(data_s.shape[0]):\n",
    "            if time[j] == 0:\n",
    "                delta = prev_value - data_s[j]\n",
    "            else:\n",
    "                delta = abs( (prev_value - data_s[j])/(time[j]-prev_time))\n",
    "            v_all[j] = delta\n",
    "            prev_value = data_s[j]\n",
    "            prev_time = time[j]\n",
    "        v = v_all\n",
    "    return v"
   ]
  },
  {
   "cell_type": "code",
   "execution_count": 20,
   "id": "boring-scholarship",
   "metadata": {},
   "outputs": [],
   "source": [
    "def get_initial_vmax(time, data_s):\n",
    "    v = get_v(time,data_s)\n",
    "    return np.max(v)"
   ]
  },
  {
   "cell_type": "code",
   "execution_count": 21,
   "id": "formal-scottish",
   "metadata": {},
   "outputs": [],
   "source": [
    "def get_initial_Km(time, data_s):\n",
    "    v = get_v(time,data_s)\n",
    "    idx_max = np.where(v == np.max(v))[0][0]\n",
    "    idx_Km = (np.abs(v[idx_max:]-np.max(v)/2)).argmin()\n",
    "    if len(data_s.shape)>1:\n",
    "        km = np.mean(data_s,axis=0)[idx_max+idx_Km]\n",
    "    else:\n",
    "        km = data_s[idx_max+idx_Km]\n",
    "    return km"
   ]
  },
  {
   "cell_type": "markdown",
   "id": "leading-concert",
   "metadata": {},
   "source": [
    "#### Bringing everything together\n",
    "Initialize parameters:\n",
    "- $v_0$ is fixed on 0.\n",
    "- bias is estimated by taking the mean of the last data point for all measured data.\n",
    "- for $S_0$ the mean of first data point for all measured data is taken and substracted by the estimated bias.\n",
    "- functions to get initial values for $v_{max}$ and $K_m$ are called.\n",
    "- initial value for a is set to 1."
   ]
  },
  {
   "cell_type": "code",
   "execution_count": 22,
   "id": "parental-prisoner",
   "metadata": {},
   "outputs": [],
   "source": [
    "# time\n",
    "t_measured = data_time[:]\n",
    "\n",
    "# initial conditions:\n",
    "#v0 = 0\n",
    "if len(data_s.shape)>1:\n",
    "    s0 = np.max(data_s,axis=0)[0]\n",
    "else:\n",
    "    s0 = data_s[0]\n",
    "\n",
    "# Set parameters including bounds\n",
    "#bias = np.min(data_s,axis=0)[-1]\n",
    "vmax = get_initial_vmax(t_measured, data_s)\n",
    "km = get_initial_Km(t_measured, data_s)"
   ]
  },
  {
   "cell_type": "markdown",
   "id": "heated-kingston",
   "metadata": {},
   "source": [
    "Parameters for different Models"
   ]
  },
  {
   "cell_type": "code",
   "execution_count": 23,
   "id": "permanent-occasion",
   "metadata": {},
   "outputs": [],
   "source": [
    "# 'standard' Michaelis Menten\n",
    "params_MM = Parameters()\n",
    "params_MM.add('vmax', value=vmax, min=0.0)\n",
    "params_MM.add('Km', value=km, min=0.0001)"
   ]
  },
  {
   "cell_type": "code",
   "execution_count": 24,
   "id": "opposed-theory",
   "metadata": {},
   "outputs": [],
   "source": [
    "# Hill equation\n",
    "n = 2\n",
    "\n",
    "params_Hill = Parameters()\n",
    "params_Hill.add('vmax', value=vmax, min=0.0)\n",
    "params_Hill.add('Km', value=km, min=0.0001)\n",
    "params_Hill.add('n', value=n, min=0.99, max=3)"
   ]
  },
  {
   "cell_type": "markdown",
   "id": "acoustic-pakistan",
   "metadata": {},
   "source": [
    "#### Fit model and visualize results\n",
    "Statistics for the Fit and the parameters a printed. <br>\n",
    "In the graph the red line shows the result of the model. <br>\n",
    "The dotted curves are the measured data sets."
   ]
  },
  {
   "cell_type": "code",
   "execution_count": 25,
   "id": "editorial-trader",
   "metadata": {},
   "outputs": [
    {
     "name": "stdout",
     "output_type": "stream",
     "text": [
      "[[Fit Statistics]]\n",
      "    # fitting method   = leastsq\n",
      "    # function evals   = 28\n",
      "    # data points      = 330\n",
      "    # variables        = 2\n",
      "    chi-square         = 1.0160e-05\n",
      "    reduced chi-square = 3.0976e-08\n",
      "    Akaike info crit   = -5703.72817\n",
      "    Bayesian info crit = -5696.12999\n",
      "[[Variables]]\n",
      "    vmax:  8.1636e-05 +/- 9.2252e-05 (113.00%) (init = 2.003577e-05)\n",
      "    Km:    0.48794348 +/- 0.65280338 (133.79%) (init = 0.02451704)\n",
      "[[Correlations]] (unreported correlations are < 0.100)\n",
      "    C(vmax, Km) =  0.999\n"
     ]
    },
    {
     "data": {
      "image/png": "[encoded data removed]",
      "text/plain": [
       "<Figure size 432x288 with 1 Axes>"
      ]
     },
     "metadata": {},
     "output_type": "display_data"
    }
   ],
   "source": [
    "# 'standard' Michaelis Menten\n",
    "if len(data_s.shape)>1:\n",
    "    result = minimize(residual_MM , params_MM, args=(t_measured, data_s), method='leastsq')\n",
    "    report_fit(result) # access values of fitted parameters: result.params['Km'].value\n",
    "    # plot the data sets and fits\n",
    "    plt.figure()\n",
    "    for i in range(data_s.shape[0]):\n",
    "        plt.plot(t_measured, data_s[i, :], 'o')\n",
    "        #w0 = params['v0'].value, data_s[i,0]\n",
    "        w0 = data_s[i,0]\n",
    "        data_fitted = solve_MM(t_measured, w0, result.params)\n",
    "        plt.plot(t_measured, data_fitted[:, 0], '-', linewidth=2, label='fitted data')\n",
    "    plt.show()\n",
    "else:\n",
    "    result = minimize(residual_MM_single , params_MM, args=(t_measured, data_s), method='leastsq')\n",
    "    report_fit(result) # access values of fitted parameters: result.params['Km'].value\n",
    "    # plot the data sets and fits\n",
    "    plt.figure()\n",
    "    plt.plot(t_measured, data_s[:], 'o')\n",
    "    w0 = data_s[0]\n",
    "    data_fitted = solve_MM(t_measured, w0, result.params)\n",
    "    plt.plot(t_measured, data_fitted[:, 0], '-', linewidth=2, label='fitted data')\n",
    "    plt.show()"
   ]
  },
  {
   "cell_type": "markdown",
   "id": "second-pasta",
   "metadata": {},
   "source": [
    "$v_{max} = k_{cat} * E_0$"
   ]
  },
  {
   "cell_type": "code",
   "execution_count": 26,
   "id": "marked-vulnerability",
   "metadata": {},
   "outputs": [
    {
     "name": "stdout",
     "output_type": "stream",
     "text": [
      "[[Fit Statistics]]\n",
      "    # fitting method   = leastsq\n",
      "    # function evals   = 742\n",
      "    # data points      = 330\n",
      "    # variables        = 3\n",
      "    chi-square         = 1.0149e-05\n",
      "    reduced chi-square = 3.1038e-08\n",
      "    Akaike info crit   = -5702.06941\n",
      "    Bayesian info crit = -5690.67213\n",
      "[[Variables]]\n",
      "    vmax:  8.1374e-05 +/- 4.2033e-04 (516.55%) (init = 2.003577e-05)\n",
      "    Km:    0.49810090 +/- 3.64513165 (731.81%) (init = 0.02451704)\n",
      "    n:     0.99000000 +/- 0.43113138 (43.55%) (init = 2)\n",
      "[[Correlations]] (unreported correlations are < 0.100)\n",
      "    C(vmax, Km) =  0.999\n",
      "    C(Km, n)    =  0.983\n",
      "    C(vmax, n)  =  0.976\n"
     ]
    },
    {
     "data": {
      "image/png": "[encoded data removed]",
      "text/plain": [
       "<Figure size 432x288 with 1 Axes>"
      ]
     },
     "metadata": {},
     "output_type": "display_data"
    }
   ],
   "source": [
    "# Hill equation\n",
    "if len(data_s.shape)>1:\n",
    "    result = minimize(residual_Hill , params_Hill, args=(t_measured, data_s), method='leastsq')\n",
    "    report_fit(result) # access values of fitted parameters: result.params['Km'].value\n",
    "    # plot the data sets and fits\n",
    "    plt.figure()\n",
    "    for i in range(data_s.shape[0]):\n",
    "        plt.plot(t_measured, data_s[i, :], 'o')\n",
    "        #w0 = params['v0'].value, data_s[i,0]\n",
    "        w0 = data_s[i,0]\n",
    "        data_fitted = solve_Hill(t_measured, w0, result.params)\n",
    "        plt.plot(t_measured, data_fitted[:, 0], '-', linewidth=2, label='fitted data')\n",
    "    plt.show()\n",
    "else:\n",
    "    result = minimize(residual_Hill_single , params_Hill, args=(t_measured, data_s), method='leastsq')\n",
    "    report_fit(result) # access values of fitted parameters: result.params['Km'].value\n",
    "    # plot the data sets and fits\n",
    "    plt.figure()\n",
    "    plt.plot(t_measured, data_s[:], 'o')\n",
    "    w0 = data_s[0]\n",
    "    data_fitted = solve_Hill(t_measured, w0, result.params)\n",
    "    plt.plot(t_measured, data_fitted[:, 0], '-', linewidth=2, label='fitted data')\n",
    "    plt.show()"
   ]
  }
 ],
 "metadata": {
  "kernelspec": {
   "display_name": "Python 3",
   "language": "python",
   "name": "python3"
  },
  "language_info": {
   "codemirror_mode": {
    "name": "ipython",
    "version": 3
   },
   "file_extension": ".py",
   "mimetype": "text/x-python",
   "name": "python",
   "nbconvert_exporter": "python",
   "pygments_lexer": "ipython3",
   "version": "3.9.2"
  }
 },
 "nbformat": 4,
 "nbformat_minor": 5
}
