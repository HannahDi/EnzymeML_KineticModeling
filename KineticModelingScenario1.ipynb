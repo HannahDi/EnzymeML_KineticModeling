{
 "cells": [
  {
   "cell_type": "markdown",
   "id": "devoted-scheme",
   "metadata": {},
   "source": [
    "# Scenario 1 - Kinetic Modeling\n",
    "This Jupyter notebook will guide you through the process of visualizing and modeling your experimental data and finally uploading an EnzymeML document to a Database. The EnzymeML data format is based on the Systems Biology Markup Language (SBML) and helps with data consistency by storing all experimental data and the corresponding metadata in one place. <br>\n",
    "A Juypter notebook contains text-cells, like this one, and code-cells, which you can run by pressing the small triangle on the top of the page or with the shortcut (CTRL+Return). Some code-cells will generate output directly under them. The current cell is highlighted by a blue line on the left. To choose a specific cell just click it. <br>\n",
    "You can use this notebook as a step-by-step tutorial. For each step, a short text explains what will happen when you run the code-block and what you have to do. <br>\n",
    "If not stated otherwise, please run each code-cell after you read the corresponding text.<br>\n",
    "Before we start, we have to do some preparations in the next few cells. "
   ]
  },
  {
   "cell_type": "markdown",
   "id": "economic-salvation",
   "metadata": {},
   "source": [
    "### Packages imports\n",
    "Import packages used in this notebook"
   ]
  },
  {
   "cell_type": "code",
   "execution_count": null,
   "id": "starting-confidentiality",
   "metadata": {},
   "outputs": [],
   "source": []
  },
  {
   "cell_type": "markdown",
   "id": "common-allen",
   "metadata": {},
   "source": [
    "### Working directory\n",
    "To have one place for all your data choose a directory. <br>\n",
    "Run the next code cell and a button will appear. When you press the button a directory manager will open and you can navigate to a folder of your choice."
   ]
  },
  {
   "cell_type": "code",
   "execution_count": null,
   "id": "numerous-hacker",
   "metadata": {},
   "outputs": [],
   "source": []
  },
  {
   "cell_type": "markdown",
   "id": "bacterial-vegetable",
   "metadata": {},
   "source": [
    "### Preparing the API\n",
    "For convenient API-requests later on, some preparation has to be done."
   ]
  },
  {
   "cell_type": "code",
   "execution_count": null,
   "id": "pleased-antenna",
   "metadata": {},
   "outputs": [],
   "source": []
  },
  {
   "cell_type": "markdown",
   "id": "controlled-standing",
   "metadata": {},
   "source": [
    "## 1) EzymeML spreadsheet with experimental data\n",
    "For your convenience, an EnzymeML spreadsheet template was designed, including tooltips for additional information. You can download a zip containing the empty Excel spreadsheet and an example of a filled spreadsheet [here](https://www.dropbox.com/s/ap26t13upye3cte/EnzymeML_Template_V1.zip?dl=1). <br> \n",
    "Please fill in the spreadsheet with your data and save it to the previously chosen directory. <br> \n",
    "If you have further questions or remarks, please contact us."
   ]
  },
  {
   "cell_type": "markdown",
   "id": "upper-declaration",
   "metadata": {},
   "source": [
    "## 2) Convert the EnzymeML spreadsheet to an EnzymeML document\n",
    "In this step the EnzymeML spreadsheet will be converted to an EnzymeML document. <br>\n",
    "The EnzymeML document which is generated upon conversion is (1) a local .omex file or (2) a new entry in an EnzymeML dataverse <br>"
   ]
  },
  {
   "cell_type": "markdown",
   "id": "leading-memory",
   "metadata": {},
   "source": [
    "2.1) Convert the EnzymeML spreadsheet to a local EnzymeML file in .omex format<br>\n",
    "Run the next code cell to convert the spreadsheet to an EnzymeML document. An empty field and a button will appear. Enter the filename for the EnzymeML file in the empty field. Then press the button, from the window select the spreadsheet, and confirm. Now the spreadsheet will be automatically converted to an EnzymeML document via an API request. You can find the EnzymeML document with the file ending .omex in your working directory.<br>"
   ]
  },
  {
   "cell_type": "code",
   "execution_count": null,
   "id": "durable-wesley",
   "metadata": {},
   "outputs": [],
   "source": []
  },
  {
   "cell_type": "markdown",
   "id": "other-conflict",
   "metadata": {},
   "source": [
    "2.2) Convert the EnzymeML spreadsheet to an EnzymeML dataverse <br>\n",
    "Run the next code cell to convert the spreadsheet to an EnzymeML document. An empty field and a button will appear. Enter the address of the EnzymeML dataverse in the empty field. Then press the button, from the window select the spreadsheet, and confirm. Now the spreadsheet will be automatically converted to an EnzymeML document via an API request. You can find the EnzymeML document as new EnzymeML dataverse entry.<br>"
   ]
  },
  {
   "cell_type": "code",
   "execution_count": null,
   "id": "numerous-convergence",
   "metadata": {},
   "outputs": [],
   "source": []
  },
  {
   "cell_type": "markdown",
   "id": "friendly-currency",
   "metadata": {},
   "source": [
    "## 3) Visualizing of time-course data\n",
    "The next code cell will give you a tabluar overview of your reactions. Following this, you have the chance to dive deeper into your time-course data."
   ]
  },
  {
   "cell_type": "code",
   "execution_count": null,
   "id": "weird-chamber",
   "metadata": {},
   "outputs": [],
   "source": []
  },
  {
   "cell_type": "markdown",
   "id": "independent-offense",
   "metadata": {},
   "source": [
    "The following graph is interactive, you can zoom or deselect time-series. With the Merge Tooltip checkbox you can toggle to show all series in the tooltip or only one. <br>\n",
    "In the top-right corner you have the option to save the graph as png or svg."
   ]
  },
  {
   "cell_type": "code",
   "execution_count": null,
   "id": "colonial-detection",
   "metadata": {},
   "outputs": [],
   "source": []
  },
  {
   "cell_type": "markdown",
   "id": "velvet-weather",
   "metadata": {},
   "source": [
    "## 4) Kinetic modeling\n",
    "Kinetic modeling consists of two steps: (1) Add a kinetic model to the EnzymeML document (2) Perform a parameter estimation using the selected kinetic model and the selected time course data in the EnzymeML document.<br>"
   ]
  },
  {
   "cell_type": "markdown",
   "id": "rising-vessel",
   "metadata": {},
   "source": [
    "4.1) Add a kinetic model to the EnzymeML document\n",
    "Run the code cell with your selected model. You might add more than one model to the EnzymeML document. For consistency, we use [Systems Biology Ontology](http://www.ebi.ac.uk/sbo/main/) (SBO) Terms."
   ]
  },
  {
   "cell_type": "markdown",
   "id": "adolescent-steam",
   "metadata": {},
   "source": [
    "Irreversible Michaelis-Menten\n",
    "[SBO:000029](http://www.ebi.ac.uk/sbo/main/SBO:0000029):"
   ]
  },
  {
   "cell_type": "code",
   "execution_count": null,
   "id": "ready-tuning",
   "metadata": {},
   "outputs": [],
   "source": []
  },
  {
   "cell_type": "markdown",
   "id": "split-terminal",
   "metadata": {},
   "source": [
    "Michaelis-Menten with product inhibition\n",
    "[SBO:0000387](http://www.ebi.ac.uk/sbo/main/SBO:0000387):"
   ]
  },
  {
   "cell_type": "code",
   "execution_count": null,
   "id": "consistent-looking",
   "metadata": {},
   "outputs": [],
   "source": []
  },
  {
   "cell_type": "markdown",
   "id": "satisfied-signal",
   "metadata": {},
   "source": [
    "Reversible Michaelis-Menten\n",
    "[SBO:0000438](http://www.ebi.ac.uk/sbo/main/SBO:0000438):"
   ]
  },
  {
   "cell_type": "code",
   "execution_count": null,
   "id": "protective-mouse",
   "metadata": {},
   "outputs": [],
   "source": []
  },
  {
   "cell_type": "markdown",
   "id": "powerful-folks",
   "metadata": {},
   "source": [
    "4.2) Perform a parameter estimation using the selected kinetic model and the selected time course data in the EnzymeML document <br>\n",
    "Select the model and the time course data to be modeled, then use the COPASI API."
   ]
  },
  {
   "cell_type": "code",
   "execution_count": null,
   "id": "innovative-roads",
   "metadata": {},
   "outputs": [],
   "source": []
  },
  {
   "cell_type": "markdown",
   "id": "closing-bridges",
   "metadata": {},
   "source": [
    "## 5) Visualizing the results\n",
    "Visualize the kinetic model(s) from the previous step and compare the results."
   ]
  },
  {
   "cell_type": "code",
   "execution_count": null,
   "id": "incorporated-central",
   "metadata": {},
   "outputs": [],
   "source": []
  },
  {
   "cell_type": "markdown",
   "id": "pressed-array",
   "metadata": {},
   "source": [
    "## 6) Create a DataVerse entry\n",
    "Run the next code cell to make a dataverse entry. A dropdown menu and a button will appear. Choose a dataverse. Then press the button, from the window select the EnzymeML document, and confirm. Now the EnzymeML document will be automatically transmitted via an API request. You can find the EnzymeML document as a new EnzymeML dataverse entry.<br>"
   ]
  },
  {
   "cell_type": "code",
   "execution_count": null,
   "id": "continuing-speed",
   "metadata": {},
   "outputs": [],
   "source": []
  },
  {
   "cell_type": "markdown",
   "id": "capital-harmony",
   "metadata": {},
   "source": [
    "## 7) Publish to SABIO-RK\n",
    "Finally, publish your data to the SABIO-RK database. Press the button and select your EnzymeML document. After your confirmation, the EnzymeML document will automatically be validated and uploaded to the SABIO-RK database."
   ]
  },
  {
   "cell_type": "code",
   "execution_count": null,
   "id": "comfortable-apartment",
   "metadata": {},
   "outputs": [],
   "source": []
  }
 ],
 "metadata": {
  "kernelspec": {
   "display_name": "Python 3",
   "language": "python",
   "name": "python3"
  },
  "language_info": {
   "codemirror_mode": {
    "name": "ipython",
    "version": 3
   },
   "file_extension": ".py",
   "mimetype": "text/x-python",
   "name": "python",
   "nbconvert_exporter": "python",
   "pygments_lexer": "ipython3",
   "version": "3.9.2"
  }
 },
 "nbformat": 4,
 "nbformat_minor": 5
}
