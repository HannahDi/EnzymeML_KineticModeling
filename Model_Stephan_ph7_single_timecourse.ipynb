{
 "cells": [
  {
   "cell_type": "code",
   "execution_count": 1,
   "id": "second-original",
   "metadata": {},
   "outputs": [],
   "source": [
    "import pandas as pd # convert excel to dataframe\n",
    "import numpy as np # convert dataframe to nparray for solver\n",
    "from scipy.integrate import odeint # solve ode\n",
    "from lmfit import minimize, Parameters, Parameter, report_fit # fitting\n",
    "import matplotlib.pyplot as plt # plot data and results"
   ]
  },
  {
   "cell_type": "code",
   "execution_count": 2,
   "id": "proprietary-blowing",
   "metadata": {},
   "outputs": [],
   "source": [
    "data = './datasets/Stephan_pH7.xlsx'\n",
    "df = pd.read_excel(data)\n",
    "#print(df)"
   ]
  },
  {
   "cell_type": "code",
   "execution_count": 3,
   "id": "secondary-working",
   "metadata": {},
   "outputs": [
    {
     "name": "stdout",
     "output_type": "stream",
     "text": [
      "[0.         0.08333333 0.16666667 0.25       0.33333333 0.41666667\n",
      " 0.5        0.58333333 0.66666667 0.75       0.83333333 0.91666667\n",
      " 1.         1.08333333 1.16666667 1.25       1.33333333 1.41666667\n",
      " 1.5        1.58333333 1.66666667 1.75       1.83333333 1.91666667\n",
      " 2.         2.08333333 2.16666667 2.25       2.33333333 2.41666667\n",
      " 2.5        2.58333333 2.66666667 2.75       2.83333333 2.91666667\n",
      " 3.         3.08333333 3.16666667 3.25       3.33333333 3.41666667\n",
      " 3.5        3.58333333 3.66666667 3.75       3.83333333 3.91666667\n",
      " 4.         4.08333333 4.16666667 4.25       4.33333333 4.41666667\n",
      " 4.5        4.58333333 4.66666667 4.75       4.83333333 4.91666667]\n",
      "[0.9862 0.9734 0.9734 0.9666 0.9403 0.9353 0.9137 0.903  0.8932 0.8748\n",
      " 0.8651 0.8453 0.8308 0.817  0.7955 0.7839 0.7665 0.7448 0.7251 0.7068\n",
      " 0.688  0.665  0.6449 0.6267 0.6079 0.5852 0.5643 0.546  0.5259 0.5044\n",
      " 0.4838 0.4647 0.4419 0.4202 0.3998 0.38   0.358  0.3403 0.3208 0.3027\n",
      " 0.2828 0.264  0.2484 0.2317 0.2155 0.1998 0.1855 0.1715 0.1597 0.1506\n",
      " 0.141  0.1322 0.1263 0.1218 0.1166 0.1133 0.1106 0.11   0.1068 0.1053]\n"
     ]
    }
   ],
   "source": [
    "data_time = df[df.columns[0]].to_numpy(np.float64)\n",
    "print(data_time)\n",
    "data_s = df[df.columns[1]].to_numpy(np.float64)\n",
    "print(data_s)"
   ]
  },
  {
   "cell_type": "code",
   "execution_count": 4,
   "id": "impressive-interval",
   "metadata": {},
   "outputs": [],
   "source": [
    "def f(w, t, paras):\n",
    "    '''\n",
    "    System of differential equations\n",
    "    Arguments:\n",
    "        w: vector of state variables: w = [v,s]\n",
    "        t: time\n",
    "        params: parameters\n",
    "    '''\n",
    "    v, s = w\n",
    "    \n",
    "    try:\n",
    "        a = paras['a'].value\n",
    "        vmax = paras['vmax'].value\n",
    "        km = paras['km'].value\n",
    "\n",
    "    except KeyError:\n",
    "        a, vmax, km = paras\n",
    "    \n",
    "    \n",
    "    # f(v',s'):\n",
    "    f0 = a*(vmax-v) # v'\n",
    "    f1 = -v*s/(km+s) # s'\n",
    "    return [f0,f1]"
   ]
  },
  {
   "cell_type": "code",
   "execution_count": 5,
   "id": "welcome-woman",
   "metadata": {},
   "outputs": [],
   "source": [
    "def g(t, w0, paras):\n",
    "    '''\n",
    "    Solution to the ODE w'(t)=f(t,w,p) with initial condition w(0)= w0 (= [v0, s0])\n",
    "    '''\n",
    "    w = odeint(f, w0, t, args=(paras,))\n",
    "    return w"
   ]
  },
  {
   "cell_type": "code",
   "execution_count": 6,
   "id": "urban-frank",
   "metadata": {},
   "outputs": [],
   "source": [
    "# bias test\n",
    "def residual(paras, t, data_s):\n",
    "    w0 = paras['v0'].value, paras['s0'].value\n",
    "    model = g(t, w0, paras)\n",
    "    # only have data for s not v\n",
    "    s_model = model[:,1]\n",
    "    s_model_b = s_model + paras['b'].value\n",
    "    return (s_model_b - data_s).ravel()"
   ]
  },
  {
   "cell_type": "code",
   "execution_count": 7,
   "id": "attended-administration",
   "metadata": {},
   "outputs": [],
   "source": [
    "# initial conditions:\n",
    "v0 = 0\n",
    "s0 = data_s[0]\n",
    "\n",
    "# measured data\n",
    "t_measured = data_time\n",
    "s_measured = data_s"
   ]
  },
  {
   "cell_type": "code",
   "execution_count": 8,
   "id": "coastal-boring",
   "metadata": {},
   "outputs": [],
   "source": [
    "# WITH BIAS\n",
    "# Set parameters including bounds\n",
    "bias = 0.1\n",
    "params = Parameters()\n",
    "params.add('v0', value=v0, vary=False)\n",
    "params.add('s0', value=s0-bias, min=0.1, max=s0)\n",
    "params.add('a', value=1., min=0.0001, max=2.)\n",
    "params.add('vmax', value=0.2, min=0.0001, max=1.)\n",
    "params.add('km', value=0.05, min=0.0001, max=1.)\n",
    "params.add('b', value=bias, min=0.01, max=0.5)"
   ]
  },
  {
   "cell_type": "code",
   "execution_count": 9,
   "id": "naval-blind",
   "metadata": {},
   "outputs": [
    {
     "name": "stdout",
     "output_type": "stream",
     "text": [
      "[[Fit Statistics]]\n",
      "    # fitting method   = leastsq\n",
      "    # function evals   = 72\n",
      "    # data points      = 60\n",
      "    # variables        = 5\n",
      "    chi-square         = 0.00152630\n",
      "    reduced chi-square = 2.7751e-05\n",
      "    Akaike info crit   = -624.755263\n",
      "    Bayesian info crit = -614.283540\n",
      "[[Variables]]\n",
      "    v0:    0 (fixed)\n",
      "    s0:    0.85979608 +/- 0.00327662 (0.38%) (init = 0.8862)\n",
      "    a:     1.64100613 +/- 0.08837481 (5.39%) (init = 1)\n",
      "    vmax:  0.27635580 +/- 0.00632738 (2.29%) (init = 0.2)\n",
      "    km:    0.04513591 +/- 0.00643329 (14.25%) (init = 0.05)\n",
      "    b:     0.10882729 +/- 0.00276046 (2.54%) (init = 0.1)\n",
      "[[Correlations]] (unreported correlations are < 0.100)\n",
      "    C(vmax, km) =  0.947\n",
      "    C(a, vmax)  = -0.898\n",
      "    C(s0, b)    = -0.761\n",
      "    C(a, km)    = -0.744\n",
      "    C(km, b)    = -0.652\n",
      "    C(vmax, b)  = -0.516\n",
      "    C(s0, km)   =  0.347\n",
      "    C(a, b)     =  0.343\n",
      "    C(s0, a)    =  0.173\n",
      "    C(s0, vmax) =  0.155\n"
     ]
    },
    {
     "data": {
      "image/png": "[encoded data removed]",
      "text/plain": [
       "<Figure size 432x288 with 1 Axes>"
      ]
     },
     "metadata": {
      "needs_background": "light"
     },
     "output_type": "display_data"
    }
   ],
   "source": [
    "# fit model\n",
    "result = minimize(residual , params, args=(t_measured, s_measured), method='leastsq')  # leastsq nelder\n",
    "# check results of the fit\n",
    "w0 = params['v0'].value, params['s0'].value\n",
    "data_fitted = g(t_measured, w0, result.params)\n",
    "\n",
    "# plot fitted data\n",
    "plt.plot(t_measured, data_fitted[:, 1]+params['b'].value, '-', linewidth=2, color='red', label='fitted data')\n",
    "#plt.plot(t_measured, data_fitted[:, 1], '-', linewidth=2, color='red', label='fitted data')\n",
    "plt.legend()\n",
    "plt.xlim([0, max(t_measured)])\n",
    "plt.ylim([0, 1.1 * max(data_fitted[:, 1]+params['b'].value)])\n",
    "# display fitted statistics\n",
    "report_fit(result)\n",
    "\n",
    "plt.scatter(t_measured, s_measured, marker='o', color='b', label='measured substrate')\n",
    "plt.show()"
   ]
  },
  {
   "cell_type": "code",
   "execution_count": 10,
   "id": "civil-groove",
   "metadata": {},
   "outputs": [],
   "source": [
    "# For DeBug uncomment:\n",
    "#data_fitted"
   ]
  },
  {
   "cell_type": "code",
   "execution_count": null,
   "id": "transsexual-senior",
   "metadata": {},
   "outputs": [],
   "source": []
  }
 ],
 "metadata": {
  "kernelspec": {
   "display_name": "Python 3",
   "language": "python",
   "name": "python3"
  },
  "language_info": {
   "codemirror_mode": {
    "name": "ipython",
    "version": 3
   },
   "file_extension": ".py",
   "mimetype": "text/x-python",
   "name": "python",
   "nbconvert_exporter": "python",
   "pygments_lexer": "ipython3",
   "version": "3.9.2"
  }
 },
 "nbformat": 4,
 "nbformat_minor": 5
}
