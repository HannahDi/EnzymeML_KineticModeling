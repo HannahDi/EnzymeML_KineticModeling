{
 "cells": [
  {
   "cell_type": "markdown",
   "id": "corresponding-credits",
   "metadata": {},
   "source": [
    "# Scenario 2 - kinetic Modeling with ODE Solver"
   ]
  },
  {
   "cell_type": "markdown",
   "id": "endless-contamination",
   "metadata": {},
   "source": [
    "Description"
   ]
  },
  {
   "cell_type": "markdown",
   "id": "essential-cliff",
   "metadata": {},
   "source": [
    "### Imports\n",
    "Import packages and set global varibales used in this notebook"
   ]
  },
  {
   "cell_type": "code",
   "execution_count": 1,
   "id": "rubber-skiing",
   "metadata": {},
   "outputs": [],
   "source": [
    "import os # operating system to work with directories and files\n",
    "import matplotlib.pyplot as plt # plot data and results\n",
    "import seaborn as sns # prettier visualization\n",
    "import pandas as pd # convert excel to dataframe\n",
    "import numpy as np # convert dataframe to nparray for solver\n",
    "from scipy.integrate import odeint # solve ode\n",
    "from scipy.optimize import curve_fit # TEST\n",
    "from lmfit import minimize, Parameters, Parameter, report_fit # fitting\n",
    "from pyenzyme.enzymeml.tools import EnzymeMLReader # EnzymeML document functionalities"
   ]
  },
  {
   "cell_type": "markdown",
   "id": "limited-conversion",
   "metadata": {},
   "source": [
    "## Select EnzymeML document\n",
    "Select the EnzymeML document created with BioCatHub, by changing the path vriable accodingly. <br>\n",
    "The whole EnzymeML document is stored in the enzmldoc varible. <br>\n",
    "Prints a short overview."
   ]
  },
  {
   "cell_type": "code",
   "execution_count": 2,
   "id": "surgical-radio",
   "metadata": {},
   "outputs": [
    {
     "name": "stdout",
     "output_type": "stream",
     "text": [
      ">>> Units\n",
      "\tID: u0 \t Name: ml\n",
      "\tID: u1 \t Name: K\n",
      "\tID: u2 \t Name: mole / l\n",
      "\tID: u3 \t Name: g\n",
      "\tID: u4 \t Name: min\n",
      ">>> Reactants\n",
      "\tID: s0 \t Name: pyruvate\n",
      "\tID: s1 \t Name: acetolactate\n",
      "\tID: s2 \t Name: Flavin dunucleotide\n",
      "\tID: s3 \t Name: Magnesium sulfide\n",
      ">>> Proteins\n",
      "\tID: p0 \t Name: HcAHAS_C_unit\n",
      ">>> Reactions\n",
      "\tID: r0 \t Name: pH measuremnt\n"
     ]
    }
   ],
   "source": [
    "path = 'datasets/pH optimum 7.omex'\n",
    "\n",
    "# check for correct file path and file extension:\n",
    "if os.path.isfile(path) and os.path.basename(path).lower().endswith('.omex'):\n",
    "    enzmldoc = EnzymeMLReader().readFromFile(path)\n",
    "    print(enzmldoc)\n",
    "else:\n",
    "    print('Incorrect file path.')"
   ]
  },
  {
   "cell_type": "markdown",
   "id": "unable-stretch",
   "metadata": {},
   "source": [
    "## Visualization of timecourse data\n",
    "A short visualisation to get a first impression of the data. <br>\n",
    "First select the reaction to visualize by changing the reaction_id accordingly, see overview above for selction options."
   ]
  },
  {
   "cell_type": "code",
   "execution_count": 3,
   "id": "assigned-botswana",
   "metadata": {},
   "outputs": [],
   "source": [
    "#basic/general settings\n",
    "sns.set_theme(style=\"whitegrid\", palette ='bright',color_codes=True, context = 'notebook')\n",
    "\n",
    "# set reaction id to 'r0' or 'r1'\n",
    "reaction_id = 'r0'\n",
    "reaction = enzmldoc.getReaction(reaction_id)\n",
    "reaction_name = reaction.getName()\n",
    "educts = reaction.getEducts() # list of tuples: (Reactant ID, stoichiometry, Constant, Replicate, Initial-Concentration)\n",
    "products = reaction.getProducts()"
   ]
  },
  {
   "cell_type": "markdown",
   "id": "auburn-sellers",
   "metadata": {},
   "source": [
    "Visualize educts, if the EnzymeML document contains time course data for educts"
   ]
  },
  {
   "cell_type": "code",
   "execution_count": 4,
   "id": "neither-belle",
   "metadata": {},
   "outputs": [
    {
     "data": {
      "image/png": "[encoded data removed]",
      "text/plain": [
       "<Figure size 504x252 with 1 Axes>"
      ]
     },
     "metadata": {},
     "output_type": "display_data"
    }
   ],
   "source": [
    "# Educts:\n",
    "for reactant_id, stoich, _, replicates, init_conc in educts:\n",
    "        \n",
    "    if len(replicates) > 0:\n",
    "            \n",
    "        df = reaction.exportReplicates(reactant_id)\n",
    "        time_val = df.index.tolist()\n",
    "        time = df.index.name.split('/')[0]\n",
    "        time_unit_name = df.index.name.split('/')[1]\n",
    "        time_unit = enzmldoc.getUnitDict()[time_unit_name].getName()\n",
    "            \n",
    "        f, ax = plt.subplots(figsize=(7,3.5))\n",
    "            \n",
    "        # Visualization\n",
    "        for col in df.columns:\n",
    "                \n",
    "            name = enzmldoc.getReactant(col.split('/')[1]).getName()\n",
    "            unit_name = enzmldoc.getReactant(col.split('/')[1]).getSubstanceUnits()\n",
    "            unit = enzmldoc.getUnitDict()[unit_name].getName()\n",
    "                \n",
    "            sns.lineplot( x=time_val, y=df[col], label = col.split('/')[0] )\n",
    "            \n",
    "        #set graph title, legend, axes \n",
    "        ax.set_title(reaction_name, fontsize = 12)\n",
    "\n",
    "        ax.legend(fontsize = 10, \\\n",
    "                    bbox_to_anchor= (1, 0.75), \\\n",
    "                    title= name, \\\n",
    "                    title_fontsize = 10, \\\n",
    "                    shadow = True, \\\n",
    "                    facecolor = 'white');\n",
    "\n",
    "        xlabel = f\"{time} [{time_unit}]\"\n",
    "        ylabel = f\"{'concentration'} [{unit}]\"\n",
    "\n",
    "        ax.set_xlabel(xlabel , fontsize=10)\n",
    "        ax.set_ylabel(ylabel, fontsize=10)"
   ]
  },
  {
   "cell_type": "markdown",
   "id": "historic-visibility",
   "metadata": {},
   "source": [
    "Visualize products, if the EnzymeML document contains time course data for products <br>\n",
    "The example data does not contain measurments of products."
   ]
  },
  {
   "cell_type": "code",
   "execution_count": 5,
   "id": "furnished-semester",
   "metadata": {},
   "outputs": [],
   "source": [
    "for reactant_id, stoich, _, replicates, init_conc in products:\n",
    "        \n",
    "    if len(replicates) > 0:\n",
    "            \n",
    "        df = reaction.exportReplicates(reactant_id)\n",
    "        time_val = df.index.tolist()\n",
    "        time = df.index.name.split('/')[0]\n",
    "        time_unit_name = df.index.name.split('/')[1]\n",
    "        time_unit = enzmldoc.getUnitDict()[time_unit_name].getName()\n",
    "            \n",
    "        f, ax = plt.subplots(figsize=(7,3.5))\n",
    "            \n",
    "        # Visualization\n",
    "        for col in df.columns:\n",
    "                \n",
    "            name = enzmldoc.getReactant(col.split('/')[1]).getName()\n",
    "            unit_name = enzmldoc.getReactant(col.split('/')[1]).getSubstanceUnits()\n",
    "            unit = enzmldoc.getUnitDict()[unit_name].getName()\n",
    "                \n",
    "            sns.lineplot( x=time_val, y=df[col], label = col.split('/')[0] )\n",
    "            \n",
    "        #set graph title, legend, axes \n",
    "        ax.set_title(reaction_name, fontsize = 12)\n",
    "\n",
    "        ax.legend(fontsize = 10, \\\n",
    "                    bbox_to_anchor= (1, 0.75), \\\n",
    "                    title= name, \\\n",
    "                    title_fontsize = 10, \\\n",
    "                    shadow = True, \\\n",
    "                    facecolor = 'white');\n",
    "\n",
    "        xlabel = f\"{time} [{time_unit}]\"\n",
    "        ylabel = f\"{'concentration'} [{unit}]\"\n",
    "\n",
    "        ax.set_xlabel(xlabel , fontsize=10)\n",
    "        ax.set_ylabel(ylabel, fontsize=10)"
   ]
  },
  {
   "cell_type": "markdown",
   "id": "corrected-conservation",
   "metadata": {},
   "source": [
    "## Parameter Estimation and Modeling\n",
    "#### Data preparation\n",
    "Convert pandas dataframe from EnzymeML data to numpy arrays. <br>\n",
    "First select the reactant to model by changing the reactant_id accordingly, see overview above for selction options.<br>\n",
    "In this example substrate 's0' will be modeled."
   ]
  },
  {
   "cell_type": "code",
   "execution_count": 6,
   "id": "sophisticated-brown",
   "metadata": {},
   "outputs": [],
   "source": [
    "reactant_id = 's0'\n",
    "replicates = reaction.exportReplicates(reactant_id)\n",
    "# time:\n",
    "data_time = replicates.index.values # numpy array shape (60,)\n",
    "# substrate data (absorption):\n",
    "data_s = np.transpose(replicates.iloc[:,:].to_numpy(np.float64)) # shape: (3, 60)"
   ]
  },
  {
   "cell_type": "markdown",
   "id": "dramatic-shopping",
   "metadata": {},
   "source": [
    "### Fit data to a system of ODEs\n",
    "#### Define the ODE functions"
   ]
  },
  {
   "cell_type": "code",
   "execution_count": 7,
   "id": "earned-shade",
   "metadata": {},
   "outputs": [],
   "source": [
    "def f(w, t, params):\n",
    "    '''\n",
    "    System of differential equations\n",
    "    Arguments:\n",
    "        w: vector of state variables: w = [v,S]\n",
    "        t: time\n",
    "        params: parameters\n",
    "    '''\n",
    "    v, s = w\n",
    "    \n",
    "    a = params['a'].value\n",
    "    vmax = params['vmax'].value\n",
    "    km = params['Km'].value\n",
    "    \n",
    "    # f(v',s'):\n",
    "    f0 = a*(vmax-v) # v'\n",
    "    f1 = -v*s/(km+s) # S'\n",
    "    return [f0,f1]"
   ]
  },
  {
   "cell_type": "markdown",
   "id": "initial-freeware",
   "metadata": {},
   "source": [
    "#### Solve ODE"
   ]
  },
  {
   "cell_type": "code",
   "execution_count": 8,
   "id": "embedded-arthritis",
   "metadata": {},
   "outputs": [],
   "source": [
    "def g(t, w0, params):\n",
    "    '''\n",
    "    Solution to the ODE w'(t)=f(t,w,p) with initial condition w(0)= w0 (= [v0, S0])\n",
    "    '''\n",
    "    w = odeint(f, w0, t, args=(params,))\n",
    "    return w"
   ]
  },
  {
   "cell_type": "markdown",
   "id": "necessary-timeline",
   "metadata": {},
   "source": [
    "#### Compute residual between actual data (S) and fitted data\n",
    "In this model we assume that the data contains a bias on the y-axis. <br>\n",
    "Therfore we compute the distance between the modeled substrate + bias and the actual mesuared substrate"
   ]
  },
  {
   "cell_type": "code",
   "execution_count": 9,
   "id": "alleged-brass",
   "metadata": {},
   "outputs": [],
   "source": [
    "def residual(params, t, data_s):\n",
    "    ndata, nt = data_s.shape # get dimensions of data (here we fit against 3 measurments => ndata = 3)\n",
    "    resid = 0.0*data_s[:] # initialize the residual vector\n",
    "    # compute residual per data set\n",
    "    for i in range(ndata):\n",
    "        w0 = params['v0'].value, params['S0'].value\n",
    "        model = g(t, w0, params) # solve the ODE with the given parameters\n",
    "        # get modeled substrate\n",
    "        s_model = model[:,1]\n",
    "        s_model_b = s_model + params['b'].value # adding bias\n",
    "        resid[i,:]=data_s[i,:]-s_model_b # compute distance to measured data\n",
    "    return resid.flatten()"
   ]
  },
  {
   "cell_type": "markdown",
   "id": "outer-domain",
   "metadata": {},
   "source": [
    "#### Bringing everything together\n",
    "Initialize parameters <br>\n",
    "v0 is fixed on 0 <br>\n",
    "For S0 the mean of first data point for all measured data is taken and substracted by the estimated bias\n",
    "Initial values for all other parameters are estimated."
   ]
  },
  {
   "cell_type": "code",
   "execution_count": 10,
   "id": "based-seventh",
   "metadata": {},
   "outputs": [],
   "source": [
    "# initial conditions:\n",
    "v0 = 0\n",
    "s0 = np.mean(data_s,axis=0)[0]\n",
    "\n",
    "# Set parameters including bounds\n",
    "bias = np.mean(data_s,axis=0)[-1]\n",
    "params = Parameters()\n",
    "params.add('v0', value=v0, vary=False)\n",
    "params.add('S0', value=s0-bias, min=0.1, max=s0)\n",
    "params.add('a', value=1., min=0.0001, max=2.)\n",
    "params.add('vmax', value=0.2, min=0.0001, max=1.)\n",
    "params.add('Km', value=0.05, min=0.0001, max=1.)\n",
    "params.add('b', value=bias, min=0.01, max=s0*0.5)\n",
    "\n",
    "# time\n",
    "t_measured = data_time"
   ]
  },
  {
   "cell_type": "markdown",
   "id": "diagnostic-alias",
   "metadata": {},
   "source": [
    "#### Fit model and visualize results\n",
    "Statistics for the Fit and the parameters a printed. <br>\n",
    "In the graph the red line shows the result of the model. <br>\n",
    "The dotted curves are the measured data sets."
   ]
  },
  {
   "cell_type": "code",
   "execution_count": 11,
   "id": "occupational-myanmar",
   "metadata": {},
   "outputs": [
    {
     "name": "stdout",
     "output_type": "stream",
     "text": [
      "[[Fit Statistics]]\n",
      "    # fitting method   = leastsq\n",
      "    # function evals   = 96\n",
      "    # data points      = 180\n",
      "    # variables        = 5\n",
      "    chi-square         = 0.04123983\n",
      "    reduced chi-square = 2.3566e-04\n",
      "    Akaike info crit   = -1498.63538\n",
      "    Bayesian info crit = -1482.67059\n",
      "[[Variables]]\n",
      "    v0:    0 (fixed)\n",
      "    S0:    0.86085381 +/- 0.00534287 (0.62%) (init = 0.8834)\n",
      "    a:     1.69789522 +/- 0.15512384 (9.14%) (init = 1)\n",
      "    vmax:  0.28159374 +/- 0.01082388 (3.84%) (init = 0.2)\n",
      "    Km:    0.04761891 +/- 0.01094690 (22.99%) (init = 0.05)\n",
      "    b:     0.09725089 +/- 0.00436856 (4.49%) (init = 0.09466667)\n",
      "[[Correlations]] (unreported correlations are < 0.100)\n",
      "    C(vmax, Km) =  0.947\n",
      "    C(a, vmax)  = -0.895\n",
      "    C(a, Km)    = -0.743\n",
      "    C(S0, b)    = -0.736\n",
      "    C(Km, b)    = -0.638\n",
      "    C(vmax, b)  = -0.504\n",
      "    C(a, b)     =  0.333\n",
      "    C(S0, Km)   =  0.312\n",
      "    C(S0, a)    =  0.211\n",
      "    C(S0, vmax) =  0.122\n"
     ]
    },
    {
     "data": {
      "image/png": "[encoded data removed]",
      "text/plain": [
       "<Figure size 432x288 with 1 Axes>"
      ]
     },
     "metadata": {},
     "output_type": "display_data"
    }
   ],
   "source": [
    "# fit model\n",
    "result = minimize(residual , params, args=(t_measured, data_s), method='leastsq')\n",
    "report_fit(result)\n",
    "# plot the data sets and fits\n",
    "w0 = params['v0'].value, params['S0'].value\n",
    "data_fitted = g(t_measured, w0, result.params)\n",
    "plt.figure()\n",
    "\n",
    "for i in range(data_s.shape[0]):\n",
    "    plt.plot(t_measured, data_s[i, :], 'o')\n",
    "plt.plot(t_measured, data_fitted[:, 1]+params['b'].value, '-', linewidth=4, color='red', label='fitted data')\n",
    "plt.show()"
   ]
  },
  {
   "cell_type": "markdown",
   "id": "greek-mathematics",
   "metadata": {},
   "source": [
    "Add equeations to EnzymeML document"
   ]
  },
  {
   "cell_type": "code",
   "execution_count": 12,
   "id": "tutorial-carbon",
   "metadata": {},
   "outputs": [],
   "source": [
    "# Code"
   ]
  },
  {
   "cell_type": "markdown",
   "id": "intelligent-reader",
   "metadata": {},
   "source": [
    "Add parameters to EnzymeML document"
   ]
  },
  {
   "cell_type": "code",
   "execution_count": 13,
   "id": "aware-fifty",
   "metadata": {},
   "outputs": [],
   "source": [
    "# Code"
   ]
  },
  {
   "cell_type": "markdown",
   "id": "bored-judges",
   "metadata": {},
   "source": [
    "Dataverse Entry?"
   ]
  }
 ],
 "metadata": {
  "kernelspec": {
   "display_name": "Python 3",
   "language": "python",
   "name": "python3"
  },
  "language_info": {
   "codemirror_mode": {
    "name": "ipython",
    "version": 3
   },
   "file_extension": ".py",
   "mimetype": "text/x-python",
   "name": "python",
   "nbconvert_exporter": "python",
   "pygments_lexer": "ipython3",
   "version": "3.9.2"
  }
 },
 "nbformat": 4,
 "nbformat_minor": 5
}
