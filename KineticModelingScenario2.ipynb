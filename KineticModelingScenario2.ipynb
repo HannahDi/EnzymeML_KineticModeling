{
 "cells": [
  {
   "cell_type": "markdown",
   "id": "challenging-shareware",
   "metadata": {},
   "source": [
    "# Scenario 2 - kinetic Modeling with ODE Solver"
   ]
  },
  {
   "cell_type": "markdown",
   "id": "brave-sydney",
   "metadata": {},
   "source": [
    "Description"
   ]
  },
  {
   "cell_type": "markdown",
   "id": "toxic-butler",
   "metadata": {},
   "source": [
    "Select the EnzymeML Dokument created with BioCatHub"
   ]
  },
  {
   "cell_type": "code",
   "execution_count": 1,
   "id": "split-amino",
   "metadata": {},
   "outputs": [],
   "source": [
    "# Code"
   ]
  },
  {
   "cell_type": "markdown",
   "id": "entire-sleeping",
   "metadata": {},
   "source": [
    "Visualize Data?"
   ]
  },
  {
   "cell_type": "code",
   "execution_count": 2,
   "id": "exclusive-automation",
   "metadata": {},
   "outputs": [],
   "source": [
    "# Code"
   ]
  },
  {
   "cell_type": "markdown",
   "id": "premium-toolbox",
   "metadata": {},
   "source": [
    "Define a system of differential equations"
   ]
  },
  {
   "cell_type": "code",
   "execution_count": 3,
   "id": "configured-addition",
   "metadata": {},
   "outputs": [],
   "source": [
    "# Code"
   ]
  },
  {
   "cell_type": "markdown",
   "id": "suffering-feelings",
   "metadata": {},
   "source": [
    "Add equeations to EnzymeML document"
   ]
  },
  {
   "cell_type": "code",
   "execution_count": null,
   "id": "fancy-hierarchy",
   "metadata": {},
   "outputs": [],
   "source": [
    "# Code"
   ]
  },
  {
   "cell_type": "markdown",
   "id": "smoking-andrews",
   "metadata": {},
   "source": [
    "Call Solver with differential equations and timecourse data to get parameters"
   ]
  },
  {
   "cell_type": "code",
   "execution_count": 4,
   "id": "japanese-breeding",
   "metadata": {},
   "outputs": [],
   "source": [
    "# Code"
   ]
  },
  {
   "cell_type": "markdown",
   "id": "metric-discretion",
   "metadata": {},
   "source": [
    "Visualize results, compare Model with actual data"
   ]
  },
  {
   "cell_type": "code",
   "execution_count": null,
   "id": "aggregate-maker",
   "metadata": {},
   "outputs": [],
   "source": [
    "# Code"
   ]
  },
  {
   "cell_type": "markdown",
   "id": "mineral-rebate",
   "metadata": {},
   "source": [
    "Add parameters to EnzymeML document"
   ]
  },
  {
   "cell_type": "code",
   "execution_count": null,
   "id": "seven-bride",
   "metadata": {},
   "outputs": [],
   "source": [
    "# Code"
   ]
  },
  {
   "cell_type": "markdown",
   "id": "continued-drill",
   "metadata": {},
   "source": [
    "Dataverse Entry?"
   ]
  }
 ],
 "metadata": {
  "kernelspec": {
   "display_name": "Python 3",
   "language": "python",
   "name": "python3"
  },
  "language_info": {
   "codemirror_mode": {
    "name": "ipython",
    "version": 3
   },
   "file_extension": ".py",
   "mimetype": "text/x-python",
   "name": "python",
   "nbconvert_exporter": "python",
   "pygments_lexer": "ipython3",
   "version": "3.9.2"
  }
 },
 "nbformat": 4,
 "nbformat_minor": 5
}
