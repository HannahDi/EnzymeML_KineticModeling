{
 "cells": [
  {
   "cell_type": "markdown",
   "id": "angry-burlington",
   "metadata": {},
   "source": [
    "# Mock UP for a mini GUI to convert an EnzymeML spreadsheet on the homepage\n",
    "For now this only works with a local API, so won't be able to test this :( \n",
    "Little changes on the API server are needed. \n",
    "We are working on it."
   ]
  },
  {
   "cell_type": "code",
   "execution_count": 1,
   "id": "received-alexandria",
   "metadata": {},
   "outputs": [],
   "source": [
    "# IPython display\n",
    "from IPython.display import display, HTML"
   ]
  },
  {
   "cell_type": "markdown",
   "id": "political-romantic",
   "metadata": {},
   "source": [
    "#### Needed changes before deployment:\n",
    "- API url is still local, at: fetch(\"http://127.0.0.1:5000/template/convert\", requestOptions), change to server url als soon as CORS is enabled\n",
    "- for now the API only acceps the file extension xlsm, maybe later others like xlsx will be accepted to, then these extensions have to be added: under input type='file' ... accept=\"...\";\n",
    "- if the API also accepts file extensions with a differnet length than 4, e.g. 'xls' instead of 'xlsm' conversion code for the name must be changed"
   ]
  },
  {
   "cell_type": "code",
   "execution_count": 2,
   "id": "variable-newsletter",
   "metadata": {},
   "outputs": [],
   "source": [
    "# html code to insert into homepage\n",
    "html_code ='''<p>Convert the <strong>EnzymeML</strong> spreadsheet into an <strong>EnzymeML</strong> document</p>\n",
    "\n",
    "<input type=\"file\" id=\"input_spreadsheet\" accept=\".xlsm\" value=\"Select a file\" onchange=\"activateButton()\"><br><br>\n",
    "<input type=\"submit\" id=\"button_submit\" value=\"Download\" onclick=\"convertButton()\" disabled>\n",
    "\n",
    "<script>\n",
    "  function activateButton() {\n",
    "    var file=document.getElementById(\"input_spreadsheet\").files;\n",
    "    var bt = document.getElementById(\"button_submit\");\n",
    "    if (file.length === 1) {\n",
    "      bt.disabled = false;\n",
    "      console.log(document.getElementById(\"input_spreadsheet\").files[0].name.slice(0,-4)+'omex')\n",
    "    } else {\n",
    "      bt.disabled = true;\n",
    "    }\n",
    "  }\n",
    "\n",
    "  function convertButton() {\n",
    "    var fileInput=document.getElementById(\"input_spreadsheet\");\n",
    "    var fileName=fileInput.files[0].name\n",
    "    var formdata = new FormData();\n",
    "    formdata.append(\"xlsm\", fileInput.files[0], fileName);\n",
    "\n",
    "    var requestOptions = {\n",
    "      method: 'POST',\n",
    "      body: formdata,\n",
    "      redirect: 'follow'\n",
    "    };\n",
    "\n",
    "    fetch(\"http://127.0.0.1:5000/template/convert\", requestOptions)\n",
    "      .then(response => response.blob())\n",
    "      .then(blob => {\n",
    "          var url = window.URL.createObjectURL(blob);\n",
    "          var a = document.createElement('a');\n",
    "          a.href = url;\n",
    "          a.download = fileName.slice(0,-4)+'omex';\n",
    "          document.body.appendChild(a); // we need to append the element to the dom -> otherwise it will not work in firefox\n",
    "          a.click();    \n",
    "          a.remove();  //afterwards we remove the element again         \n",
    "      });\n",
    "  }\n",
    "</script>'''"
   ]
  },
  {
   "cell_type": "code",
   "execution_count": 3,
   "id": "coupled-stockholm",
   "metadata": {},
   "outputs": [
    {
     "data": {
      "text/html": [
       "<p>Convert the <strong>EnzymeML</strong> spreadsheet into an <strong>EnzymeML</strong> document</p>\n",
       "\n",
       "<input type=\"file\" id=\"input_spreadsheet\" accept=\".xlsm\" value=\"Select a file\" onchange=\"activateButton()\"><br><br>\n",
       "<input type=\"submit\" id=\"button_submit\" value=\"Download\" onclick=\"convertButton()\" disabled>\n",
       "\n",
       "<script>\n",
       "  function activateButton() {\n",
       "    var file=document.getElementById(\"input_spreadsheet\").files;\n",
       "    var bt = document.getElementById(\"button_submit\");\n",
       "    if (file.length === 1) {\n",
       "      bt.disabled = false;\n",
       "      console.log(document.getElementById(\"input_spreadsheet\").files[0].name.slice(0,-4)+'omex')\n",
       "    } else {\n",
       "      bt.disabled = true;\n",
       "    }\n",
       "  }\n",
       "\n",
       "  function convertButton() {\n",
       "    var fileInput=document.getElementById(\"input_spreadsheet\");\n",
       "    var fileName=fileInput.files[0].name\n",
       "    var formdata = new FormData();\n",
       "    formdata.append(\"xlsm\", fileInput.files[0], fileName);\n",
       "\n",
       "    var requestOptions = {\n",
       "      method: 'POST',\n",
       "      body: formdata,\n",
       "      redirect: 'follow'\n",
       "    };\n",
       "\n",
       "    fetch(\"http://127.0.0.1:5000/template/convert\", requestOptions)\n",
       "      .then(response => response.blob())\n",
       "      .then(blob => {\n",
       "          var url = window.URL.createObjectURL(blob);\n",
       "          var a = document.createElement('a');\n",
       "          a.href = url;\n",
       "          a.download = fileName.slice(0,-4)+'omex';\n",
       "          document.body.appendChild(a); // we need to append the element to the dom -> otherwise it will not work in firefox\n",
       "          a.click();    \n",
       "          a.remove();  //afterwards we remove the element again         \n",
       "      });\n",
       "  }\n",
       "</script>"
      ],
      "text/plain": [
       "<IPython.core.display.HTML object>"
      ]
     },
     "metadata": {},
     "output_type": "display_data"
    }
   ],
   "source": [
    "display(HTML(html_code))"
   ]
  },
  {
   "cell_type": "markdown",
   "id": "actual-engagement",
   "metadata": {},
   "source": [
    "#### Note: \n",
    "The \"file\" button is labeled automatically so in a German Chrome browser it says \"Datei auswählen\" in an English Chrome browser it will say \"Choose File\""
   ]
  },
  {
   "cell_type": "code",
   "execution_count": null,
   "id": "geological-afghanistan",
   "metadata": {},
   "outputs": [],
   "source": []
  }
 ],
 "metadata": {
  "kernelspec": {
   "display_name": "Python 3",
   "language": "python",
   "name": "python3"
  },
  "language_info": {
   "codemirror_mode": {
    "name": "ipython",
    "version": 3
   },
   "file_extension": ".py",
   "mimetype": "text/x-python",
   "name": "python",
   "nbconvert_exporter": "python",
   "pygments_lexer": "ipython3",
   "version": "3.9.2"
  }
 },
 "nbformat": 4,
 "nbformat_minor": 5
}
