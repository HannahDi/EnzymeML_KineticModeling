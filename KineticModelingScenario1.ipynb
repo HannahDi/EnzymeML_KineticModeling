{
 "cells": [
  {
   "cell_type": "markdown",
   "id": "pregnant-commissioner",
   "metadata": {},
   "source": [
    "# Scenario 1 - Kinetic Modeling\n",
    "This Jupyter notebook will guide you through the process of visualizing and modeling your experimental data and finally uploading an EnzymeML document to a Database. The EnzymeML data format is based on the Systems Biology Markup Language (SBML) and helps with data consistency by storing all experimental data and the corresponding metadata in one place. <br>\n",
    "A Juypter notebook contains text-cells, like this one, and code-cells, which you can run by pressing the small triangle on the top of the page or with the shortcut (CTRL+Return). Some code-cells will generate output directly under them. The current cell is highlighted by a blue line on the left. To choose a specific cell just click it. <br>\n",
    "You can use this notebook as a step-by-step tutorial. For each step, a short text explains what will happen when you run the code-block and what you have to do. <br>\n",
    "If not stated otherwise, please run each code-cell after you read the corresponding text.<br>\n",
    "Before we start, we have to do some preparations in the next few cells. "
   ]
  },
  {
   "cell_type": "markdown",
   "id": "complex-fairy",
   "metadata": {},
   "source": [
    "### Imports\n",
    "Import packages and global variables used in this notebook"
   ]
  },
  {
   "cell_type": "code",
   "execution_count": 1,
   "id": "quiet-methodology",
   "metadata": {},
   "outputs": [],
   "source": [
    "import os\n",
    "import json\n",
    "from IPython.display import display, HTML\n",
    "import ipywidgets as widgets\n",
    "from ipywidgets import Button, interact\n",
    "from tkinter import Tk, filedialog\n",
    "from utilities.nbhelper import NBHelper\n",
    "from utilities.uicreator import UICreator\n",
    "\n",
    "# initialize Helper\n",
    "nbH = NBHelper(\"http://127.0.0.1:5000/\")\n",
    "ui = UICreator(nbH)\n",
    "\n",
    "# global variables\n",
    "workspace = ''\n",
    "enzmldoc = ''"
   ]
  },
  {
   "cell_type": "markdown",
   "id": "parental-cambodia",
   "metadata": {},
   "source": [
    "### Working directory\n",
    "To have one place for all your data choose a directory. <br>\n",
    "Run the next code cell and a button will appear. When you press the button a directory manager will open and you can navigate to a folder of your choice."
   ]
  },
  {
   "cell_type": "code",
   "execution_count": 2,
   "id": "lucky-softball",
   "metadata": {},
   "outputs": [
    {
     "data": {
      "application/vnd.jupyter.widget-view+json": {
       "model_id": "0c352821b63a4a3482499410e16c4ee5",
       "version_major": 2,
       "version_minor": 0
      },
      "text/plain": [
       "Button(description='Set Workspace', style=ButtonStyle())"
      ]
     },
     "metadata": {},
     "output_type": "display_data"
    },
    {
     "data": {
      "application/vnd.jupyter.widget-view+json": {
       "model_id": "b3e1b17ca1ce46568d3d603305d7eb6c",
       "version_major": 2,
       "version_minor": 0
      },
      "text/plain": [
       "Output()"
      ]
     },
     "metadata": {},
     "output_type": "display_data"
    }
   ],
   "source": [
    "ui.workspaceButton()"
   ]
  },
  {
   "cell_type": "markdown",
   "id": "pediatric-provision",
   "metadata": {},
   "source": [
    "### Preparing the API\n",
    "For convenient API-requests later on, some preparation has to be done."
   ]
  },
  {
   "cell_type": "code",
   "execution_count": null,
   "id": "inclusive-homeless",
   "metadata": {},
   "outputs": [],
   "source": [
    "# TODO API moved to util nbhelper"
   ]
  },
  {
   "cell_type": "markdown",
   "id": "beginning-shanghai",
   "metadata": {},
   "source": [
    "## 1) EzymeML spreadsheet with experimental data\n",
    "For your convenience, an EnzymeML spreadsheet template was designed, including tooltips for additional information. You can download a zip containing the empty Excel spreadsheet and an example of a filled spreadsheet [here](https://www.dropbox.com/s/ap26t13upye3cte/EnzymeML_Template_V1.zip?dl=1). <br> \n",
    "Please fill in the spreadsheet with your data and save it to the previously chosen directory. <br> \n",
    "If you have further questions or remarks, please contact us."
   ]
  },
  {
   "cell_type": "markdown",
   "id": "drawn-valve",
   "metadata": {},
   "source": [
    "## 2) Convert the EnzymeML spreadsheet to an EnzymeML document\n",
    "In this step the EnzymeML spreadsheet will be converted to an EnzymeML document. <br>\n",
    "The EnzymeML document which is generated upon conversion is (1) a local .omex file or (2) a new entry in an EnzymeML dataverse <br>"
   ]
  },
  {
   "cell_type": "markdown",
   "id": "binding-assignment",
   "metadata": {},
   "source": [
    "2.1) Convert the EnzymeML spreadsheet to a local EnzymeML file in .omex format<br>\n",
    "Run the next code cell to convert the spreadsheet to an EnzymeML document. An empty field and a button will appear. Enter the filename for the EnzymeML file in the empty field. Then press the button, from the window select the spreadsheet, and confirm. Now the spreadsheet will be automatically converted to an EnzymeML document via an API request. You can find the EnzymeML document with the file ending .omex in your working directory.<br>"
   ]
  },
  {
   "cell_type": "code",
   "execution_count": 3,
   "id": "seven-toner",
   "metadata": {},
   "outputs": [
    {
     "data": {
      "application/vnd.jupyter.widget-view+json": {
       "model_id": "72628f7eaf944e52adf64ad3394c1e51",
       "version_major": 2,
       "version_minor": 0
      },
      "text/plain": [
       "Text(value='', description='OmexName:', placeholder='name.omex')"
      ]
     },
     "metadata": {},
     "output_type": "display_data"
    },
    {
     "data": {
      "application/vnd.jupyter.widget-view+json": {
       "model_id": "e842ee846c3544a58d0e8b69b51ac1eb",
       "version_major": 2,
       "version_minor": 0
      },
      "text/plain": [
       "Button(description='Select Excel File', style=ButtonStyle(), tooltip='Click me')"
      ]
     },
     "metadata": {},
     "output_type": "display_data"
    },
    {
     "data": {
      "application/vnd.jupyter.widget-view+json": {
       "model_id": "01a2315151b34801a0546558fee58db5",
       "version_major": 2,
       "version_minor": 0
      },
      "text/plain": [
       "Output()"
      ]
     },
     "metadata": {},
     "output_type": "display_data"
    }
   ],
   "source": [
    "ui.convertUI()"
   ]
  },
  {
   "cell_type": "code",
   "execution_count": 4,
   "id": "affected-spouse",
   "metadata": {},
   "outputs": [
    {
     "name": "stdout",
     "output_type": "stream",
     "text": [
      ">>> Units\n",
      "\tID: u0 \t Name: ml\n",
      "\tID: u1 \t Name: umole / l\n",
      "\tID: u2 \t Name: mmole / l\n",
      "\tID: u3 \t Name: min\n",
      "\tID: u4 \t Name: K\n",
      ">>> Reactants\n",
      "\tID: s0 \t Name: benzaldehyde\n",
      "\tID: s1 \t Name: benzoin\n",
      "\tID: s2 \t Name: potassium phosphate\n",
      ">>> Proteins\n",
      "\tID: p0 \t Name: pyruvate decarboxylase\n",
      ">>> Reactions\n",
      "\tID: r0 \t Name: self-ligation of benzaldehyde_5_0\n"
     ]
    }
   ],
   "source": [
    "enzyml=nbH.getEnzymeMLDoc()\n",
    "print(enzyml)"
   ]
  },
  {
   "cell_type": "markdown",
   "id": "determined-static",
   "metadata": {},
   "source": [
    "2.2) Convert the EnzymeML spreadsheet to an EnzymeML dataverse <br>\n",
    "Run the next code cell to convert the spreadsheet to an EnzymeML document. An empty field and a button will appear. Enter the address of the EnzymeML dataverse in the empty field. Then press the button, from the window select the spreadsheet, and confirm. Now the spreadsheet will be automatically converted to an EnzymeML document via an API request. You can find the EnzymeML document as new EnzymeML dataverse entry.<br>"
   ]
  },
  {
   "cell_type": "markdown",
   "id": "raised-transition",
   "metadata": {},
   "source": [
    "## 3) Visualizing of time-course data\n",
    "The next code cell will give you a tabluar overview of your reactions. Following this, you have the chance to dive deeper into your time-course data."
   ]
  },
  {
   "cell_type": "code",
   "execution_count": null,
   "id": "artificial-underwear",
   "metadata": {},
   "outputs": [],
   "source": []
  },
  {
   "cell_type": "markdown",
   "id": "anticipated-evaluation",
   "metadata": {},
   "source": [
    "The following graph is interactive, you can zoom or deselect time-series. With the Merge Tooltip checkbox you can toggle to show all series in the tooltip or only one. <br>\n",
    "In the top-right corner you have the option to save the graph as png or svg."
   ]
  },
  {
   "cell_type": "code",
   "execution_count": null,
   "id": "recognized-digit",
   "metadata": {},
   "outputs": [],
   "source": []
  },
  {
   "cell_type": "markdown",
   "id": "missing-customer",
   "metadata": {},
   "source": [
    "## 4) Kinetic modeling\n",
    "Kinetic modeling consists of two steps: (1) Add a kinetic model to the EnzymeML document (2) Perform a parameter estimation using the selected kinetic model and the selected time course data in the EnzymeML document.<br>"
   ]
  },
  {
   "cell_type": "markdown",
   "id": "marked-bosnia",
   "metadata": {},
   "source": [
    "4.1) Add a kinetic model to the EnzymeML document\n",
    "Run the code cell with your selected model. You might add more than one model to the EnzymeML document. For consistency, we use [Systems Biology Ontology](http://www.ebi.ac.uk/sbo/main/) (SBO) Terms."
   ]
  },
  {
   "cell_type": "markdown",
   "id": "rough-extension",
   "metadata": {},
   "source": [
    "Irreversible Michaelis-Menten\n",
    "[SBO:000029](http://www.ebi.ac.uk/sbo/main/SBO:0000029):"
   ]
  },
  {
   "cell_type": "code",
   "execution_count": null,
   "id": "drawn-strike",
   "metadata": {},
   "outputs": [],
   "source": []
  },
  {
   "cell_type": "markdown",
   "id": "fewer-breed",
   "metadata": {},
   "source": [
    "Michaelis-Menten with product inhibition\n",
    "[SBO:0000387](http://www.ebi.ac.uk/sbo/main/SBO:0000387):"
   ]
  },
  {
   "cell_type": "code",
   "execution_count": null,
   "id": "manufactured-executive",
   "metadata": {},
   "outputs": [],
   "source": []
  },
  {
   "cell_type": "markdown",
   "id": "expired-button",
   "metadata": {},
   "source": [
    "Reversible Michaelis-Menten\n",
    "[SBO:0000438](http://www.ebi.ac.uk/sbo/main/SBO:0000438):"
   ]
  },
  {
   "cell_type": "code",
   "execution_count": null,
   "id": "stuffed-atlantic",
   "metadata": {},
   "outputs": [],
   "source": []
  },
  {
   "cell_type": "markdown",
   "id": "modified-italic",
   "metadata": {},
   "source": [
    "4.2) Perform a parameter estimation using the selected kinetic model and the selected time course data in the EnzymeML document <br>\n",
    "Select the model and the time course data to be modeled, then use the COPASI API."
   ]
  },
  {
   "cell_type": "code",
   "execution_count": null,
   "id": "alpine-syria",
   "metadata": {},
   "outputs": [],
   "source": []
  },
  {
   "cell_type": "markdown",
   "id": "challenging-dating",
   "metadata": {},
   "source": [
    "## 5) Visualizing the results\n",
    "Visualize the kinetic model(s) from the previous step and compare the results."
   ]
  },
  {
   "cell_type": "code",
   "execution_count": null,
   "id": "incorporate-shepherd",
   "metadata": {},
   "outputs": [],
   "source": []
  },
  {
   "cell_type": "markdown",
   "id": "metallic-walker",
   "metadata": {},
   "source": [
    "## 6) Create a DataVerse entry\n",
    "Run the next code cell to make a dataverse entry. A dropdown menu and a button will appear. Choose a dataverse. Then press the button, from the window select the EnzymeML document, and confirm. Now the EnzymeML document will be automatically transmitted via an API request. You can find the EnzymeML document as a new EnzymeML dataverse entry.<br>"
   ]
  },
  {
   "cell_type": "code",
   "execution_count": null,
   "id": "impressed-police",
   "metadata": {},
   "outputs": [],
   "source": []
  },
  {
   "cell_type": "markdown",
   "id": "quantitative-regard",
   "metadata": {},
   "source": [
    "## 7) Publish to SABIO-RK\n",
    "Finally, publish your data to the SABIO-RK database. Press the button and select your EnzymeML document. After your confirmation, the EnzymeML document will automatically be validated and uploaded to the SABIO-RK database."
   ]
  },
  {
   "cell_type": "code",
   "execution_count": null,
   "id": "accepting-fence",
   "metadata": {},
   "outputs": [],
   "source": []
  }
 ],
 "metadata": {
  "kernelspec": {
   "display_name": "Python 3",
   "language": "python",
   "name": "python3"
  },
  "language_info": {
   "codemirror_mode": {
    "name": "ipython",
    "version": 3
   },
   "file_extension": ".py",
   "mimetype": "text/x-python",
   "name": "python",
   "nbconvert_exporter": "python",
   "pygments_lexer": "ipython3",
   "version": "3.9.2"
  }
 },
 "nbformat": 4,
 "nbformat_minor": 5
}
