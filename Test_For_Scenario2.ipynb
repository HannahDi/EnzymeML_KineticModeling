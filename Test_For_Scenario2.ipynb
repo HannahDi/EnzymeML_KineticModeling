{
 "cells": [
  {
   "cell_type": "markdown",
   "id": "based-experiment",
   "metadata": {},
   "source": [
    "# Tests for Scenario 2"
   ]
  },
  {
   "cell_type": "markdown",
   "id": "laden-wrist",
   "metadata": {},
   "source": [
    "imports"
   ]
  },
  {
   "cell_type": "code",
   "execution_count": 1,
   "id": "fifty-helicopter",
   "metadata": {},
   "outputs": [],
   "source": [
    "import pandas as pd # convert excel to dataframe\n",
    "import numpy as np # convert dataframe to nparray for solver\n",
    "from scipy.integrate import odeint # solve ode\n",
    "from lmfit import minimize, Parameters, Parameter, report_fit # fitting\n",
    "import matplotlib.pyplot as plt # plot data and results"
   ]
  },
  {
   "cell_type": "markdown",
   "id": "crude-travel",
   "metadata": {},
   "source": [
    "### Get data from excel"
   ]
  },
  {
   "cell_type": "code",
   "execution_count": 3,
   "id": "determined-pickup",
   "metadata": {},
   "outputs": [],
   "source": [
    "data = './datasets/Stephan_pH7.xlsx'\n",
    "df = pd.read_excel(data)\n",
    "#print(df)"
   ]
  },
  {
   "cell_type": "markdown",
   "id": "transsexual-drive",
   "metadata": {},
   "source": [
    "### Convert dataframe to np-array"
   ]
  },
  {
   "cell_type": "code",
   "execution_count": 4,
   "id": "offensive-walnut",
   "metadata": {},
   "outputs": [
    {
     "name": "stdout",
     "output_type": "stream",
     "text": [
      "[0.         0.08333333 0.16666667 0.25       0.33333333 0.41666667\n",
      " 0.5        0.58333333 0.66666667 0.75       0.83333333 0.91666667\n",
      " 1.         1.08333333 1.16666667 1.25       1.33333333 1.41666667\n",
      " 1.5        1.58333333 1.66666667 1.75       1.83333333 1.91666667\n",
      " 2.         2.08333333 2.16666667 2.25       2.33333333 2.41666667\n",
      " 2.5        2.58333333 2.66666667 2.75       2.83333333 2.91666667\n",
      " 3.         3.08333333 3.16666667 3.25       3.33333333 3.41666667\n",
      " 3.5        3.58333333 3.66666667 3.75       3.83333333 3.91666667\n",
      " 4.         4.08333333 4.16666667 4.25       4.33333333 4.41666667\n",
      " 4.5        4.58333333 4.66666667 4.75       4.83333333 4.91666667]\n",
      "[0.9862 0.9734 0.9734 0.9666 0.9403 0.9353 0.9137 0.903  0.8932 0.8748\n",
      " 0.8651 0.8453 0.8308 0.817  0.7955 0.7839 0.7665 0.7448 0.7251 0.7068\n",
      " 0.688  0.665  0.6449 0.6267 0.6079 0.5852 0.5643 0.546  0.5259 0.5044\n",
      " 0.4838 0.4647 0.4419 0.4202 0.3998 0.38   0.358  0.3403 0.3208 0.3027\n",
      " 0.2828 0.264  0.2484 0.2317 0.2155 0.1998 0.1855 0.1715 0.1597 0.1506\n",
      " 0.141  0.1322 0.1263 0.1218 0.1166 0.1133 0.1106 0.11   0.1068 0.1053]\n"
     ]
    }
   ],
   "source": [
    "data_time = df[df.columns[0]].to_numpy(np.float64)\n",
    "print(data_time)\n",
    "data_s = df[df.columns[1]].to_numpy(np.float64)\n",
    "print(data_s)"
   ]
  },
  {
   "cell_type": "markdown",
   "id": "mexican-illinois",
   "metadata": {},
   "source": [
    "## Fit data to system of odes"
   ]
  },
  {
   "cell_type": "markdown",
   "id": "tracked-version",
   "metadata": {},
   "source": [
    "### define the ode functions"
   ]
  },
  {
   "cell_type": "code",
   "execution_count": 5,
   "id": "gentle-williams",
   "metadata": {},
   "outputs": [],
   "source": [
    "def f(w, t, paras):\n",
    "    '''\n",
    "    System of differential equations\n",
    "    Arguments:\n",
    "        w: vector of state variables: w = [v,s]\n",
    "        t: time\n",
    "        params: parameters\n",
    "    '''\n",
    "    v, s = w\n",
    "    \n",
    "    try:\n",
    "        a = paras['a'].value\n",
    "        vmax = paras['vmax'].value\n",
    "        km = paras['km'].value\n",
    "\n",
    "    except KeyError:\n",
    "        a, vmax, km = paras\n",
    "    \n",
    "    \n",
    "    # f(v',s'):\n",
    "    f0 = a*(vmax-v) # v'\n",
    "    f1 = -v*s/(km+s) # s'\n",
    "    return [f0,f1]"
   ]
  },
  {
   "cell_type": "code",
   "execution_count": 6,
   "id": "severe-yacht",
   "metadata": {},
   "outputs": [],
   "source": [
    "# WITH BIAS\n",
    "def f_b(w, t, paras):\n",
    "    '''\n",
    "    System of differential equations\n",
    "    Arguments:\n",
    "        w: vector of state variables: w = [v,s]\n",
    "        t: time\n",
    "        params: parameters\n",
    "    '''\n",
    "    v, s = w\n",
    "    \n",
    "    try:\n",
    "        a = paras['a'].value\n",
    "        vmax = paras['vmax'].value\n",
    "        km = paras['km'].value\n",
    "        b = paras['b'].value\n",
    "\n",
    "    except KeyError:\n",
    "        a, vmax, km, b = paras\n",
    "    \n",
    "    \n",
    "    # f(v',s'):\n",
    "    f0 = a*(vmax-v) # v'\n",
    "    f1 = -v*(s+b)/(km+s+b) # s'\n",
    "    return [f0,f1]"
   ]
  },
  {
   "cell_type": "markdown",
   "id": "alpine-humidity",
   "metadata": {},
   "source": [
    "### Solve ODE"
   ]
  },
  {
   "cell_type": "code",
   "execution_count": 7,
   "id": "approximate-karaoke",
   "metadata": {},
   "outputs": [],
   "source": [
    "def g(t, w0, paras):\n",
    "    '''\n",
    "    Solution to the ODE w'(t)=f(t,w,p) with initial condition w(0)= w0 (= [v0, s0])\n",
    "    '''\n",
    "    w = odeint(f, w0, t, args=(paras,))\n",
    "    return w"
   ]
  },
  {
   "cell_type": "code",
   "execution_count": 8,
   "id": "weird-marina",
   "metadata": {},
   "outputs": [],
   "source": [
    "# WITH BIAS\n",
    "def g_b(t, w0, paras):\n",
    "    '''\n",
    "    Solution to the ODE w'(t)=f(t,w,p) with initial condition w(0)= w0 (= [v0, s0])\n",
    "    '''\n",
    "    w = odeint(f_b, w0, t, args=(paras,))\n",
    "    return w"
   ]
  },
  {
   "cell_type": "markdown",
   "id": "impressed-placement",
   "metadata": {},
   "source": [
    "### compute residual between actual data (s) and fitted data"
   ]
  },
  {
   "cell_type": "code",
   "execution_count": 9,
   "id": "surrounded-brain",
   "metadata": {},
   "outputs": [],
   "source": [
    "def residual(paras, t, data_s):\n",
    "    w0 = paras['v0'].value, paras['s0'].value\n",
    "    model = g(t, w0, paras)\n",
    "    # only have data for s not v\n",
    "    s_model = model[:,1]\n",
    "    return (s_model- data_s).ravel()"
   ]
  },
  {
   "cell_type": "code",
   "execution_count": 10,
   "id": "wired-aspect",
   "metadata": {},
   "outputs": [],
   "source": [
    "# WITH BIAS\n",
    "def residual_b(paras, t, data_s):\n",
    "    w0 = paras['v0'].value, paras['s0'].value\n",
    "    model = g_b(t, w0, paras)\n",
    "    # only have data for s not v\n",
    "    s_model = model[:,1]\n",
    "    bias = paras['b'].value\n",
    "    s_model_b = s_model + bias\n",
    "    return (s_model_b - data_s).ravel()"
   ]
  },
  {
   "cell_type": "code",
   "execution_count": 11,
   "id": "understood-mumbai",
   "metadata": {},
   "outputs": [],
   "source": [
    "# WITH fixed BIAS\n",
    "def residual_bf(paras, t, data_s):\n",
    "    w0 = paras['v0'].value, paras['s0'].value\n",
    "    model = g(t, w0, paras)\n",
    "    # only have data for s not v\n",
    "    s_model = model[:,1]\n",
    "    bias = paras['b'].value\n",
    "    s_model_b = s_model + bias\n",
    "    return (s_model_b - data_s).ravel()"
   ]
  },
  {
   "cell_type": "markdown",
   "id": "stupid-johnson",
   "metadata": {},
   "source": [
    "### Bringing all together"
   ]
  },
  {
   "cell_type": "code",
   "execution_count": 12,
   "id": "former-balance",
   "metadata": {},
   "outputs": [],
   "source": [
    "# initial conditions:\n",
    "v0 = 0\n",
    "s0 = data_s[0]\n",
    "w0 = [v0,s0]\n",
    "# 0,970877378\n",
    "\n",
    "\n",
    "# measured data\n",
    "t_measured = data_time\n",
    "s_measured = data_s"
   ]
  },
  {
   "cell_type": "code",
   "execution_count": 13,
   "id": "international-economy",
   "metadata": {},
   "outputs": [],
   "source": [
    "# WITH BIAS\n",
    "# initial conditions:\n",
    "v0_b = 0\n",
    "s0_b = 0.861847366499791\n",
    "w0_b = [v0_b,s0_b]"
   ]
  },
  {
   "cell_type": "code",
   "execution_count": null,
   "id": "indoor-principal",
   "metadata": {},
   "outputs": [],
   "source": []
  },
  {
   "cell_type": "code",
   "execution_count": 14,
   "id": "improved-visibility",
   "metadata": {},
   "outputs": [],
   "source": [
    "# Set parameters including bounds\n",
    "params = Parameters()\n",
    "params.add('v0', value=v0, vary=False)\n",
    "params.add('s0', value=s0, vary=False)\n",
    "params.add('a', value=1., min=0.0001, max=2.)\n",
    "params.add('vmax', value=0.2, min=0.0001, max=1.)\n",
    "params.add('km', value=0.05, min=0.0001, max=1.)\n",
    "#params.add('km', value=0.05, vary=False)"
   ]
  },
  {
   "cell_type": "code",
   "execution_count": 15,
   "id": "reverse-feeling",
   "metadata": {},
   "outputs": [],
   "source": [
    "# WITH BIAS\n",
    "# Set parameters including bounds\n",
    "params_b = Parameters()\n",
    "params_b.add('v0', value=v0_b, vary=False)\n",
    "params_b.add('s0', value=s0_b, vary=False)\n",
    "params_b.add('a', value=1., min=0.0001, max=2.)\n",
    "params_b.add('vmax', value=0.2, min=0.0001, max=1.)\n",
    "params_b.add('km', value=0.05, min=0.0001, max=1.)\n",
    "#params_b.add('km', value=0.05, vary=False)\n",
    "#params_b.add('b', value=0.1, min=0.01, max=0.5)\n",
    "params_b.add('b', value=0.109, vary=False)"
   ]
  },
  {
   "cell_type": "code",
   "execution_count": null,
   "id": "vocal-butler",
   "metadata": {},
   "outputs": [],
   "source": []
  },
  {
   "cell_type": "code",
   "execution_count": 16,
   "id": "adjacent-banana",
   "metadata": {},
   "outputs": [
    {
     "name": "stdout",
     "output_type": "stream",
     "text": [
      "[[Fit Statistics]]\n",
      "    # fitting method   = leastsq\n",
      "    # function evals   = 34\n",
      "    # data points      = 60\n",
      "    # variables        = 3\n",
      "    chi-square         = 0.01045809\n",
      "    reduced chi-square = 1.8348e-04\n",
      "    Akaike info crit   = -513.283455\n",
      "    Bayesian info crit = -507.000422\n",
      "[[Variables]]\n",
      "    v0:    0 (fixed)\n",
      "    s0:    0.9862 (fixed)\n",
      "    a:     1.50226977 +/- 0.16983479 (11.31%) (init = 1)\n",
      "    vmax:  0.39214515 +/- 0.03741561 (9.54%) (init = 0.2)\n",
      "    km:    0.28910462 +/- 0.05745140 (19.87%) (init = 0.05)\n",
      "[[Correlations]] (unreported correlations are < 0.100)\n",
      "    C(vmax, km) =  0.989\n",
      "    C(a, vmax)  = -0.949\n",
      "    C(a, km)    = -0.897\n"
     ]
    },
    {
     "data": {
      "image/png": "[encoded data removed]",
      "text/plain": [
       "<Figure size 432x288 with 1 Axes>"
      ]
     },
     "metadata": {
      "needs_background": "light"
     },
     "output_type": "display_data"
    }
   ],
   "source": [
    "# fit model\n",
    "result = minimize(residual, params, args=(t_measured, s_measured), method='leastsq')  # leastsq nelder\n",
    "# check results of the fit\n",
    "data_fitted = g(t_measured, w0, result.params)\n",
    "\n",
    "# plot fitted data\n",
    "plt.plot(t_measured, data_fitted[:, 1], '-', linewidth=2, color='red', label='fitted data')\n",
    "plt.legend()\n",
    "plt.xlim([0, max(t_measured)])\n",
    "plt.ylim([0, 1.1 * max(data_fitted[:, 1])])\n",
    "# display fitted statistics\n",
    "report_fit(result)\n",
    "\n",
    "plt.scatter(t_measured, s_measured, marker='o', color='b', label='measured substrate')\n",
    "plt.show()"
   ]
  },
  {
   "cell_type": "code",
   "execution_count": 17,
   "id": "equal-religious",
   "metadata": {},
   "outputs": [
    {
     "name": "stdout",
     "output_type": "stream",
     "text": [
      "[[Fit Statistics]]\n",
      "    # fitting method   = leastsq\n",
      "    # function evals   = 37\n",
      "    # data points      = 60\n",
      "    # variables        = 3\n",
      "    chi-square         = 0.00732127\n",
      "    reduced chi-square = 1.2844e-04\n",
      "    Akaike info crit   = -534.678951\n",
      "    Bayesian info crit = -528.395917\n",
      "[[Variables]]\n",
      "    v0:    0 (fixed)\n",
      "    s0:    0.8618474 (fixed)\n",
      "    a:     1.06527018 +/- 0.12971569 (12.18%) (init = 1)\n",
      "    vmax:  0.48245218 +/- 0.06391023 (13.25%) (init = 0.2)\n",
      "    km:    0.40123596 +/- 0.08668977 (21.61%) (init = 0.05)\n",
      "    b:     0.109 (fixed)\n",
      "[[Correlations]] (unreported correlations are < 0.100)\n",
      "    C(vmax, km) =  0.993\n",
      "    C(a, vmax)  = -0.972\n",
      "    C(a, km)    = -0.940\n"
     ]
    },
    {
     "data": {
      "image/png": "[encoded data removed]",
      "text/plain": [
       "<Figure size 432x288 with 1 Axes>"
      ]
     },
     "metadata": {
      "needs_background": "light"
     },
     "output_type": "display_data"
    }
   ],
   "source": [
    "# fit model\n",
    "result_b = minimize(residual_b, params_b, args=(t_measured, s_measured), method='leastsq')  # leastsq nelder\n",
    "# check results of the fit\n",
    "data_fitted_b = g_b(t_measured, w0_b, result_b.params)\n",
    "\n",
    "# plot fitted data\n",
    "plt.plot(t_measured, data_fitted_b[:, 1]+params_b['b'].value, '-', linewidth=2, color='red', label='fitted data')\n",
    "plt.legend()\n",
    "plt.xlim([0, max(t_measured)])\n",
    "plt.ylim([0, 1.1 * max(data_fitted_b[:, 1]+params_b['b'].value)])\n",
    "# display fitted statistics\n",
    "report_fit(result_b)\n",
    "\n",
    "plt.scatter(t_measured, s_measured, marker='o', color='b', label='measured substrate')\n",
    "plt.show()"
   ]
  },
  {
   "cell_type": "code",
   "execution_count": 18,
   "id": "touched-eligibility",
   "metadata": {},
   "outputs": [
    {
     "name": "stdout",
     "output_type": "stream",
     "text": [
      "[[Fit Statistics]]\n",
      "    # fitting method   = leastsq\n",
      "    # function evals   = 37\n",
      "    # data points      = 60\n",
      "    # variables        = 3\n",
      "    chi-square         = 0.00732127\n",
      "    reduced chi-square = 1.2844e-04\n",
      "    Akaike info crit   = -534.678951\n",
      "    Bayesian info crit = -528.395917\n",
      "[[Variables]]\n",
      "    v0:    0 (fixed)\n",
      "    s0:    0.8618474 (fixed)\n",
      "    a:     1.06527018 +/- 0.12971569 (12.18%) (init = 1)\n",
      "    vmax:  0.48245218 +/- 0.06391023 (13.25%) (init = 0.2)\n",
      "    km:    0.40123596 +/- 0.08668977 (21.61%) (init = 0.05)\n",
      "    b:     0.109 (fixed)\n",
      "[[Correlations]] (unreported correlations are < 0.100)\n",
      "    C(vmax, km) =  0.993\n",
      "    C(a, vmax)  = -0.972\n",
      "    C(a, km)    = -0.940\n"
     ]
    },
    {
     "data": {
      "image/png": "[encoded data removed]",
      "text/plain": [
       "<Figure size 432x288 with 1 Axes>"
      ]
     },
     "metadata": {
      "needs_background": "light"
     },
     "output_type": "display_data"
    }
   ],
   "source": [
    "# fit model\n",
    "result_bf = minimize(residual_bf, params_b, args=(t_measured, s_measured), method='leastsq')  # leastsq nelder\n",
    "# check results of the fit\n",
    "data_fitted_bf = g(t_measured, w0_b, result_bf.params)\n",
    "\n",
    "# plot fitted data\n",
    "plt.plot(t_measured, data_fitted_bf[:, 1]+params_b['b'].value, '-', linewidth=2, color='red', label='fitted data')\n",
    "plt.legend()\n",
    "plt.xlim([0, max(t_measured)])\n",
    "plt.ylim([0, 1.1 * max(data_fitted_b[:, 1]+params_b['b'].value)])\n",
    "# display fitted statistics\n",
    "report_fit(result_b)\n",
    "\n",
    "plt.scatter(t_measured, s_measured, marker='o', color='b', label='measured substrate')\n",
    "plt.show()"
   ]
  },
  {
   "cell_type": "code",
   "execution_count": null,
   "id": "signal-genesis",
   "metadata": {},
   "outputs": [],
   "source": []
  }
 ],
 "metadata": {
  "kernelspec": {
   "display_name": "Python 3",
   "language": "python",
   "name": "python3"
  },
  "language_info": {
   "codemirror_mode": {
    "name": "ipython",
    "version": 3
   },
   "file_extension": ".py",
   "mimetype": "text/x-python",
   "name": "python",
   "nbconvert_exporter": "python",
   "pygments_lexer": "ipython3",
   "version": "3.9.2"
  }
 },
 "nbformat": 4,
 "nbformat_minor": 5
}
