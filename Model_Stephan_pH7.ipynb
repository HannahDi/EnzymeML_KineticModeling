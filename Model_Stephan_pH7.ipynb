{
 "cells": [
  {
   "cell_type": "markdown",
   "id": "delayed-fitness",
   "metadata": {},
   "source": [
    "# Estimate Paramters of system of ODEs for given time course data"
   ]
  },
  {
   "cell_type": "markdown",
   "id": "suffering-vancouver",
   "metadata": {},
   "source": [
    "imports"
   ]
  },
  {
   "cell_type": "code",
   "execution_count": 1,
   "id": "confidential-librarian",
   "metadata": {},
   "outputs": [],
   "source": [
    "import pandas as pd # convert excel to dataframe\n",
    "import numpy as np # convert dataframe to nparray for solver\n",
    "from scipy.integrate import odeint # solve ode\n",
    "from lmfit import minimize, Parameters, Parameter, report_fit # fitting\n",
    "import matplotlib.pyplot as plt # plot data and results"
   ]
  },
  {
   "cell_type": "markdown",
   "id": "particular-isolation",
   "metadata": {},
   "source": [
    "### Get data from excel"
   ]
  },
  {
   "cell_type": "code",
   "execution_count": 2,
   "id": "capital-caribbean",
   "metadata": {},
   "outputs": [],
   "source": [
    "data = './datasets/Stephan_pH7.xlsx'\n",
    "df = pd.read_excel(data, sheet_name=1)"
   ]
  },
  {
   "cell_type": "markdown",
   "id": "basic-soldier",
   "metadata": {},
   "source": [
    "### Convert dataframe to np-array"
   ]
  },
  {
   "cell_type": "code",
   "execution_count": 3,
   "id": "proved-disaster",
   "metadata": {},
   "outputs": [],
   "source": [
    "# time:\n",
    "data_time = df[df.columns[0]].to_numpy(np.float64) #shape: (60,)\n",
    "# substrate data (absorption):\n",
    "data_s = np.transpose(df.iloc[:,1:].to_numpy(np.float64)) #shape: (3, 60)"
   ]
  },
  {
   "cell_type": "markdown",
   "id": "recent-caribbean",
   "metadata": {},
   "source": [
    "## Fit data to system of odes"
   ]
  },
  {
   "cell_type": "markdown",
   "id": "ruled-russian",
   "metadata": {},
   "source": [
    "### define the ode functions"
   ]
  },
  {
   "cell_type": "code",
   "execution_count": 4,
   "id": "included-genius",
   "metadata": {},
   "outputs": [],
   "source": [
    "def f(w, t, paras):\n",
    "    '''\n",
    "    System of differential equations\n",
    "    Arguments:\n",
    "        w: vector of state variables: w = [v,s]\n",
    "        t: time\n",
    "        params: parameters\n",
    "    '''\n",
    "    v, s = w\n",
    "    \n",
    "    try:\n",
    "        a = paras['a'].value\n",
    "        vmax = paras['vmax'].value\n",
    "        km = paras['km'].value\n",
    "\n",
    "    except KeyError:\n",
    "        a, vmax, km = paras\n",
    "    \n",
    "    \n",
    "    # f(v',s'):\n",
    "    f0 = a*(vmax-v) # v'\n",
    "    f1 = -v*s/(km+s) # s'\n",
    "    return [f0,f1]"
   ]
  },
  {
   "cell_type": "markdown",
   "id": "atlantic-swiss",
   "metadata": {},
   "source": [
    "### Solve ODE"
   ]
  },
  {
   "cell_type": "code",
   "execution_count": 5,
   "id": "focused-ending",
   "metadata": {},
   "outputs": [],
   "source": [
    "def g(t, w0, paras):\n",
    "    '''\n",
    "    Solution to the ODE w'(t)=f(t,w,p) with initial condition w(0)= w0 (= [v0, s0])\n",
    "    '''\n",
    "    w = odeint(f, w0, t, args=(paras,))\n",
    "    return w"
   ]
  },
  {
   "cell_type": "markdown",
   "id": "vertical-system",
   "metadata": {},
   "source": [
    "### compute residual between actual data (s) and fitted data"
   ]
  },
  {
   "cell_type": "code",
   "execution_count": 6,
   "id": "directed-letter",
   "metadata": {},
   "outputs": [],
   "source": [
    "def res_multi(params, t, data_s):\n",
    "    ndata, nt = data_s.shape\n",
    "    resid = 0.0*data_s[:]\n",
    "    # residual per data set\n",
    "    for i in range(ndata):\n",
    "        w0 = params['v0'].value, params['s0'].value\n",
    "        model = g(t, w0, params)\n",
    "        # only have data for s not v\n",
    "        s_model = model[:,1]\n",
    "        s_model_b = s_model + params['b'].value\n",
    "        resid[i,:]=data_s[i,:]-s_model_b\n",
    "    return resid.flatten()"
   ]
  },
  {
   "cell_type": "markdown",
   "id": "canadian-element",
   "metadata": {},
   "source": [
    "### Bringing everything together\n",
    "Initialize parameters"
   ]
  },
  {
   "cell_type": "code",
   "execution_count": 7,
   "id": "partial-bobby",
   "metadata": {},
   "outputs": [],
   "source": [
    "# initial conditions:\n",
    "v0 = 0\n",
    "s0 = np.mean(data_s,axis=0)[0]\n",
    "\n",
    "# Set parameters including bounds\n",
    "bias = 0.1\n",
    "params = Parameters()\n",
    "params.add('v0', value=v0, vary=False)\n",
    "params.add('s0', value=s0-bias, min=0.1, max=s0)\n",
    "params.add('a', value=1., min=0.0001, max=2.)\n",
    "params.add('vmax', value=0.2, min=0.0001, max=1.)\n",
    "params.add('km', value=0.05, min=0.0001, max=1.)\n",
    "params.add('b', value=bias, min=0.01, max=0.5)\n",
    "\n",
    "# time\n",
    "t_measured = data_time"
   ]
  },
  {
   "cell_type": "markdown",
   "id": "digital-uruguay",
   "metadata": {},
   "source": [
    "Fit model and visualize results"
   ]
  },
  {
   "cell_type": "code",
   "execution_count": 8,
   "id": "metric-denial",
   "metadata": {},
   "outputs": [
    {
     "name": "stdout",
     "output_type": "stream",
     "text": [
      "[[Fit Statistics]]\n",
      "    # fitting method   = leastsq\n",
      "    # function evals   = 96\n",
      "    # data points      = 180\n",
      "    # variables        = 5\n",
      "    chi-square         = 0.04123983\n",
      "    reduced chi-square = 2.3566e-04\n",
      "    Akaike info crit   = -1498.63538\n",
      "    Bayesian info crit = -1482.67059\n",
      "[[Variables]]\n",
      "    v0:    0 (fixed)\n",
      "    s0:    0.86085398 +/- 0.00534285 (0.62%) (init = 0.8780667)\n",
      "    a:     1.69791467 +/- 0.15515893 (9.14%) (init = 1)\n",
      "    vmax:  0.28159258 +/- 0.01082300 (3.84%) (init = 0.2)\n",
      "    km:    0.04761797 +/- 0.01094650 (22.99%) (init = 0.05)\n",
      "    b:     0.09725106 +/- 0.00436845 (4.49%) (init = 0.1)\n",
      "[[Correlations]] (unreported correlations are < 0.100)\n",
      "    C(vmax, km) =  0.947\n",
      "    C(a, vmax)  = -0.895\n",
      "    C(a, km)    = -0.743\n",
      "    C(s0, b)    = -0.736\n",
      "    C(km, b)    = -0.638\n",
      "    C(vmax, b)  = -0.504\n",
      "    C(a, b)     =  0.333\n",
      "    C(s0, km)   =  0.312\n",
      "    C(s0, a)    =  0.211\n",
      "    C(s0, vmax) =  0.122\n"
     ]
    },
    {
     "data": {
      "image/png": "[encoded data removed]",
      "text/plain": [
       "<Figure size 432x288 with 1 Axes>"
      ]
     },
     "metadata": {
      "needs_background": "light"
     },
     "output_type": "display_data"
    }
   ],
   "source": [
    "# fit model\n",
    "result = minimize(res_multi , params, args=(t_measured, data_s), method='leastsq')  # leastsq nelder\n",
    "report_fit(result)\n",
    "# plot the data sets and fits\n",
    "w0 = params['v0'].value, params['s0'].value\n",
    "data_fitted = g(t_measured, w0, result.params)\n",
    "plt.figure()\n",
    "\n",
    "for i in range(data_s.shape[0]):\n",
    "    plt.plot(t_measured, data_s[i, :], 'o')\n",
    "plt.plot(t_measured, data_fitted[:, 1]+params['b'].value, '-', linewidth=2, color='red', label='fitted data')\n",
    "plt.show()"
   ]
  }
 ],
 "metadata": {
  "kernelspec": {
   "display_name": "Python 3",
   "language": "python",
   "name": "python3"
  },
  "language_info": {
   "codemirror_mode": {
    "name": "ipython",
    "version": 3
   },
   "file_extension": ".py",
   "mimetype": "text/x-python",
   "name": "python",
   "nbconvert_exporter": "python",
   "pygments_lexer": "ipython3",
   "version": "3.9.2"
  }
 },
 "nbformat": 4,
 "nbformat_minor": 5
}
